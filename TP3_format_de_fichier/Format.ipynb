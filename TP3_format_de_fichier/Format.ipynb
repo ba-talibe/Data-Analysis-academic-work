{
 "cells": [
  {
   "attachments": {},
   "cell_type": "markdown",
   "metadata": {},
   "source": [
    "# Format de données\n",
    "\n",
    "Dans ce TP, nous allons mettre en œuvre les fonctionnalités liées aux fichiers pour écrire des fonctions de sauvegarde et de chargement de données dans différents formats.\n",
    "\n",
    "## Travail préliminaire\n",
    "\n",
    "Dans un travail préliminaire, il vous est demandé de produire un code permettant de transformer un structure de données de type dictionnaire où les valeurs associées à chaque clé $k$ sont des listes $l_k$ de même taille $n$, en une liste de taille $n$ dont tous les éléments sont des dictionnaires de clés $k$ et pour lesquelles les valeurs associées sont les différentes valeurs des listes $l_k$.\n",
    "\n",
    "Ainsi votre code devra par exemple être capable de transformer la structure suivante :\n",
    "\n",
    "    {\"colonne 1\":[12, 36, 32], \"colonne 2\":[25.4, 78.2, 46.2], \"colonne 3\":['A', 'B', 'C]}\n",
    "    \n",
    "en la structure de données suivante :\n",
    "\n",
    "    [\n",
    "        {\"colonne 1\":12, \"colonne 2\":25.4, \"colonne 3\":'A'},\n",
    "        {\"colonne 1\":36, \"colonne 2\":78.2, \"colonne 3\":'B'},\n",
    "        {\"colonne 1\":32, \"colonne 2\":46.2, \"colonne 3\":'C'}\n",
    "    ]\n",
    "    \n",
    "Il devra également être opérant sur la structure de donnée suivante :\n",
    "\n",
    "    {\"Nom\": ['Shannon', 'Turing', 'Lovelace'], \"Prénom\":['Claude', 'Alan', 'Ada']}\n",
    "    \n",
    "pour la transformer en \n",
    "    \n",
    "    [\n",
    "        {\"Nom\":'Shannon', \"Prénom\":'Claude'},\n",
    "        {\"Nom\":'Turing', \"Prénom\":'Alan'},\n",
    "        {\"Nom\":'Lovelace', \"Prénom\":'Ada'}\n",
    "    ]\n"
   ]
  },
  {
   "cell_type": "code",
   "execution_count": 2,
   "metadata": {},
   "outputs": [
    {
     "data": {
      "text/plain": [
       "[{'colonne 1': 12, 'colonne 2': 25.4, 'colonne 3': 'A'},\n",
       " {'colonne 1': 36, 'colonne 2': 78.2, 'colonne 3': 'B'},\n",
       " {'colonne 1': 32, 'colonne 2': 46.2, 'colonne 3': 'C'}]"
      ]
     },
     "execution_count": 2,
     "metadata": {},
     "output_type": "execute_result"
    }
   ],
   "source": [
    "dico =  {\"colonne 1\":[12, 36, 32], \"colonne 2\":[25.4, 78.2, 46.2], \"colonne 3\":['A', 'B', 'C']}\n",
    "\n",
    "def transform_data(dico : dict):\n",
    "    #en_data = dico.items()[0][1]\n",
    "   \n",
    "    len_data = list(dico.values())\n",
    "    len_data = len(len_data[0])\n",
    "    assert all(len(value) == len_data for value in dico.values())\n",
    "    res = []\n",
    "\n",
    "    for i in range(len_data):\n",
    "        d = {key : dico[key][i] for key in dico.keys()}\n",
    "        res.append(d)\n",
    "    return res\n",
    "    \n",
    "    \n",
    "\n",
    "transform_data(dico)"
   ]
  },
  {
   "attachments": {},
   "cell_type": "markdown",
   "metadata": {},
   "source": [
    "## Le format CSV\n",
    "\n",
    "CSV est l'acronyme de *Comma Separated Values* qui signifie *valeurs séparées par des virgules*. C'est un format utilisé pour sauvegarder des données tabulaires. Il s'agit d'un format texte. La première ligne contient les intitulés (chaînes de caractères) des colonnes séparées par des virgules.\n",
    "Les lignes suivantes du fichier représentent les différents lignes du tableau de données. Au sein de chaque ligne, les valeurs correspondant aux colonnes sont séparées par des vigules.\n",
    "\n",
    "Le fichier [exemple.csv](exemple.csv) montre un exemple de fichier avec le format `.csv`.\n",
    "\n",
    "Ecrire la fonction de sauvegarde dans un fichier `.csv` pour les deux types de structures de données utilisés précédemment (dictionnaire de listes, liste de dictionnaires)."
   ]
  },
  {
   "cell_type": "code",
   "execution_count": 21,
   "metadata": {},
   "outputs": [
    {
     "data": {
      "text/plain": [
       "True"
      ]
     },
     "execution_count": 21,
     "metadata": {},
     "output_type": "execute_result"
    }
   ],
   "source": [
    "def save_list_csv(liste : list, filename=\"output.csv\"):\n",
    "    chaine = \";\".join(liste)\n",
    "    try:\n",
    "        with open(filename , \"w\") as f:\n",
    "            f.write(chaine)\n",
    "            return True\n",
    "    except Exception:\n",
    "        return False\n",
    "\n",
    "\n",
    "save_list_csv([\"jehj\", \"efje\", \"dnpin\"])"
   ]
  },
  {
   "cell_type": "code",
   "execution_count": null,
   "metadata": {},
   "outputs": [],
   "source": [
    "def save_list_csv(liste : list, filename=\"output.csv\"):\n",
    "    chaine = \"\"\n",
    "    chaine += \";\".join(liste)\n",
    "    try:\n",
    "        with open(filename , \"w\") as f:\n",
    "            f.write(chaine)\n",
    "            return True\n",
    "    except:\n",
    "        return False"
   ]
  },
  {
   "attachments": {},
   "cell_type": "markdown",
   "metadata": {},
   "source": [
    "Ecrire des fonctions de chargement, c'est-à-dire de lecture des fichiers csv. \n",
    "\n",
    "Dans une version initiale, l'ensemble des données seront lues comme des chaînes de caractères. Dans une seconde version, le type de la données devra être interprété de sa syntaxe, en se limitant aux données de type chaînes de caractères et numériques."
   ]
  },
  {
   "cell_type": "code",
   "execution_count": 5,
   "metadata": {},
   "outputs": [
    {
     "name": "stdout",
     "output_type": "stream",
     "text": [
      "dict_keys(['colonne 1', 'colonne 2', 'colonne 3'])\n"
     ]
    },
    {
     "data": {
      "text/plain": [
       "True"
      ]
     },
     "execution_count": 5,
     "metadata": {},
     "output_type": "execute_result"
    }
   ],
   "source": [
    "def save_dict_csv(dico : dict, filename=\"output.csv\"):\n",
    "    len_data = list(dico.values())\n",
    "    len_data = len(len_data[0])\n",
    "    assert all(len(value) == len_data for value in dico.values())\n",
    "    print(dico.keys())\n",
    "    with open(filename , \"w\") as f:\n",
    "        headers = \",\".join(list(dico.keys()))\n",
    "        f.writelines(headers)\n",
    "        f.writelines(\"\\n\")\n",
    "        for i in range(len_data):\n",
    "            row = [str(dico.get(key)[i]) for key in dico]\n",
    "            row = \",\".join(row)\n",
    "            f.writelines(row)\n",
    "            f.writelines(\"\\n\")\n",
    "        return True\n",
    "    return False\n",
    "\n",
    "\n",
    "save_dict_csv(dico)"
   ]
  },
  {
   "cell_type": "code",
   "execution_count": null,
   "metadata": {},
   "outputs": [],
   "source": []
  },
  {
   "cell_type": "markdown",
   "metadata": {},
   "source": [
    "### Optionnel\n",
    "\n",
    "Ecrire les variantes suivantes : \n",
    "- La variante française dans laquelle les valeurs sont déparées par des points-virgules et la virgule est utilisée à la place du point comme séparateur entre la partie entière et la partie fractionnaire des données numériques.\n",
    "- Le format TSV (ou TAB) dans lequel le caractère de séparation des valeurs n'est ni le point, ni le point-virgule, mais la tabulation"
   ]
  },
  {
   "cell_type": "code",
   "execution_count": 6,
   "metadata": {},
   "outputs": [
    {
     "name": "stdout",
     "output_type": "stream",
     "text": [
      "dict_keys(['colonne 1', 'colonne 2', 'colonne 3'])\n"
     ]
    },
    {
     "data": {
      "text/plain": [
       "True"
      ]
     },
     "execution_count": 6,
     "metadata": {},
     "output_type": "execute_result"
    }
   ],
   "source": [
    "def save_dict_csv_fr(dico : dict, filename=\"output_fr.csv\"):\n",
    "    len_data = list(dico.values())\n",
    "    len_data = len(len_data[0])\n",
    "    assert all(len(value) == len_data for value in dico.values())\n",
    "    print(dico.keys())\n",
    "    with open(filename , \"w\") as f:\n",
    "        headers = \";\".join(list(dico.keys()))\n",
    "        f.writelines(headers)\n",
    "        f.writelines(\"\\n\")\n",
    "        for i in range(len_data):\n",
    "            row = [str(dico.get(key)[i]) for key in dico]\n",
    "            row = [word.replace(\".\", \",\") for word in row]\n",
    "            row = \";\".join(row)\n",
    "            f.writelines(row)\n",
    "            f.writelines(\"\\n\")\n",
    "        return True\n",
    "    return False\n",
    "\n",
    "\n",
    "save_dict_csv_fr(dico)"
   ]
  },
  {
   "cell_type": "code",
   "execution_count": 7,
   "metadata": {},
   "outputs": [
    {
     "name": "stdout",
     "output_type": "stream",
     "text": [
      "dict_keys(['colonne 1', 'colonne 2', 'colonne 3'])\n"
     ]
    },
    {
     "data": {
      "text/plain": [
       "True"
      ]
     },
     "execution_count": 7,
     "metadata": {},
     "output_type": "execute_result"
    }
   ],
   "source": [
    "def save_dict_csv_tab(dico : dict, filename=\"output_tab.csv\"):\n",
    "    len_data = list(dico.values())\n",
    "    len_data = len(len_data[0])\n",
    "    assert all(len(value) == len_data for value in dico.values())\n",
    "    print(dico.keys())\n",
    "    with open(filename , \"w\") as f:\n",
    "        headers = \"\\t\".join(list(dico.keys()))\n",
    "        f.writelines(headers)\n",
    "        f.writelines(\"\\n\")\n",
    "        for i in range(len_data):\n",
    "            row = [str(dico.get(key)[i]) for key in dico]\n",
    "            row = \"\\t\".join(row)\n",
    "            f.writelines(row)\n",
    "            f.writelines(\"\\n\")\n",
    "        return True\n",
    "    return False\n",
    "\n",
    "\n",
    "save_dict_csv_tab(dico)"
   ]
  },
  {
   "attachments": {},
   "cell_type": "markdown",
   "metadata": {},
   "source": [
    "## JSON\n",
    "\n",
    "Le format JSON (pour *JavaScript Object Notation*) est un format léger pour l'échange de données. Il est notamment documenté sur le [site officiel](https://www.json.org/).\n",
    "\n",
    "Les objets JSON sont délimités par des accolades et contiennent des données membres. Les données membres sont des couples clés-valeurs, séparés par des virgules. Les clés sont des chaînes de caractères délimités par des guillemets `\"`. Les valeurs peuvent être des données numériques, des chaines de caractères délimitées par des guillemets `\"`, d'autres objets (comme définis précédemment) ou des tableaux. Un tableau est une liste de valeurs séparées par des virgules et délimitée par des crochets `[` et `]`.\n",
    "\n",
    "Implémentez une fonction de sauvegarde d'une structure de données de type dictionnaire au format JSON ainsi qu'une fonction de chargement. "
   ]
  },
  {
   "cell_type": "code",
   "execution_count": null,
   "metadata": {},
   "outputs": [],
   "source": [
    "def create_dict(chaine : str, start_index=0) -> (dict, int) :\n",
    "    dico = {}\n",
    "    c_index = start_index\n",
    "    numquote = 0\n",
    "    while  c_index < len(chaine):\n",
    "        key_start_index = chaine[c_index+1:].index(\"\\\"\")\n",
    "        key_end_index = chaine[key_start_index+1:].index(\"\\\"\")\n",
    "        key = chaine[key_start_index+1:key_end_index]\n",
    "        c_index = key_end_index+2\n",
    "        if chaine[c_index] == \"{\":\n",
    "            value,  = create_dict(chaine[c_index])\n",
    "        elif chaine[c_index] == \"[\":\n",
    "            value = create_list(chaine[c_index])\n",
    "        else:\n",
    "            value_start_index = chaine[c_index+1:].index(\"\\\"\")\n",
    "            value_end_index = chaine[value_start_index+1:].index(\"\\\"\")\n",
    "            value = chaine[value_start_index+1,value_end_index]\n",
    "            dico[key] = value\n",
    "            c_index+=1\n",
    "            chaine = chaine[c_index:]\n",
    "\n",
    "\n",
    "def create_list(chaine, start_index=0) -> (list, int):\n",
    "    pass\n",
    "\n",
    "def load_json(chaine : str):\n",
    "    dico = {}\n",
    "    taile = len(chaine)\n",
    "    assert chaine[0] == chaine[-1] \n",
    "    if chaine[0] == \"{\":\n",
    "        return create_dict(chaine)\n",
    "    elif chaine[0] == \"[\":\n",
    "        return create_list(chaine)\n",
    "        "
   ]
  },
  {
   "attachments": {},
   "cell_type": "markdown",
   "metadata": {},
   "source": [
    "Prenez en main le module `json` de python qui permet aisément la sauvegarde via la méthode `json.dump()` et le chargement via la méthode `json.load()` ou `json.loads()`."
   ]
  },
  {
   "cell_type": "code",
   "execution_count": null,
   "metadata": {},
   "outputs": [],
   "source": []
  }
 ],
 "metadata": {
  "kernelspec": {
   "display_name": "Python 3 (ipykernel)",
   "language": "python",
   "name": "python3"
  },
  "language_info": {
   "codemirror_mode": {
    "name": "ipython",
    "version": 3
   },
   "file_extension": ".py",
   "mimetype": "text/x-python",
   "name": "python",
   "nbconvert_exporter": "python",
   "pygments_lexer": "ipython3",
   "version": "3.9.12"
  }
 },
 "nbformat": 4,
 "nbformat_minor": 4
}
