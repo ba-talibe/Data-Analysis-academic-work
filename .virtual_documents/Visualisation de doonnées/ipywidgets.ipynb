


import ipywidgets

def f(x):
    return x


ipywidgets.interact(f,x=10)


ipywidgets.interact(f,x=(0,30,3))


ipywidgets.interact(f,x=True)


ipywidgets.interact(f,x='Chaîne de caractères')


ipywidgets.interact(f,x=['Choix 1', 'Choix 2', 'Choix 3'])


ipywidgets.interact(f,x=[('Choix 1',12), ('Choix 2',5), ('Choix 3',7)])





def h(p,q):
    return p,q

ipywidgets.interact(h,p=10,q=ipywidgets.fixed(12))
ipywidgets.interact(h,p=10,q="chaine")





from IPython.display import display


s = ipywidgets.IntSlider(value=4,min=0,max=10,step=2, description='Valeur du paramètre')
ipywidgets.interact(f,x=s)


s = ipywidgets.IntSlider()
display(s)


display(s)


s.value


s.close()


a = ipywidgets.FloatText()
b = ipywidgets.FloatSlider()
display(a,b)

mylink = ipywidgets.jslink((a, 'value'), (b, 'value'))


button = ipywidgets.Button(description="Click Me!")
output = ipywidgets.Output()

display(button, output)

def on_button_clicked(b):
    global c
    c += 1
    with output:
        print("Button clicked. {c} time")

button.on_click(on_button_clicked)



int_range = ipywidgets.IntSlider()
output2 = ipywidgets.Output()

display(int_range, output2)

def on_value_change(change):
    with output2:
        print(change['new'])

int_range.observe(on_value_change, names='value')



date = ipywidgets.DatePicker(
    description='Pick a Time',
    disabled=False
)


display(date)
