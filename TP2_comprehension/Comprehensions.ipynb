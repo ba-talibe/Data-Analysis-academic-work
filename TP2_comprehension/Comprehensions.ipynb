{
 "cells": [
  {
   "cell_type": "markdown",
   "metadata": {},
   "source": [
    "# Compréhensions"
   ]
  },
  {
   "cell_type": "markdown",
   "metadata": {},
   "source": [
    "Dans ce TP, vous allez dans un premier temps reprendre des éléments du TP précédent sur l'indexation de texte pour produire le dictionnaire `data` qui associe aux entiers successifs distincts (0, 1, 2...) un des articles de la liste `news` après avoir exécuté le code suivant. A la différence du TP précédent, la génération du dictionnaire `data` doit se faire en utilisant une compréhension."
   ]
  },
  {
   "cell_type": "code",
   "execution_count": 1,
   "metadata": {},
   "outputs": [],
   "source": [
    "import pandas as pd\n",
    "\n",
    "df = pd.read_csv('articles1.csv')\n",
    "news = [content for content in list(df['content'])]\n"
   ]
  },
  {
   "cell_type": "code",
   "execution_count": 3,
   "metadata": {},
   "outputs": [
    {
     "data": {
      "text/html": [
       "<div>\n",
       "<style scoped>\n",
       "    .dataframe tbody tr th:only-of-type {\n",
       "        vertical-align: middle;\n",
       "    }\n",
       "\n",
       "    .dataframe tbody tr th {\n",
       "        vertical-align: top;\n",
       "    }\n",
       "\n",
       "    .dataframe thead th {\n",
       "        text-align: right;\n",
       "    }\n",
       "</style>\n",
       "<table border=\"1\" class=\"dataframe\">\n",
       "  <thead>\n",
       "    <tr style=\"text-align: right;\">\n",
       "      <th></th>\n",
       "      <th>Unnamed: 0</th>\n",
       "      <th>id</th>\n",
       "      <th>title</th>\n",
       "      <th>publication</th>\n",
       "      <th>author</th>\n",
       "      <th>date</th>\n",
       "      <th>year</th>\n",
       "      <th>month</th>\n",
       "      <th>url</th>\n",
       "      <th>content</th>\n",
       "    </tr>\n",
       "  </thead>\n",
       "  <tbody>\n",
       "    <tr>\n",
       "      <th>0</th>\n",
       "      <td>0</td>\n",
       "      <td>17283</td>\n",
       "      <td>House Republicans Fret About Winning Their Hea...</td>\n",
       "      <td>New York Times</td>\n",
       "      <td>Carl Hulse</td>\n",
       "      <td>2016-12-31</td>\n",
       "      <td>2016.0</td>\n",
       "      <td>12.0</td>\n",
       "      <td>NaN</td>\n",
       "      <td>WASHINGTON  —   Congressional Republicans have...</td>\n",
       "    </tr>\n",
       "    <tr>\n",
       "      <th>1</th>\n",
       "      <td>1</td>\n",
       "      <td>17284</td>\n",
       "      <td>Rift Between Officers and Residents as Killing...</td>\n",
       "      <td>New York Times</td>\n",
       "      <td>Benjamin Mueller and Al Baker</td>\n",
       "      <td>2017-06-19</td>\n",
       "      <td>2017.0</td>\n",
       "      <td>6.0</td>\n",
       "      <td>NaN</td>\n",
       "      <td>After the bullet shells get counted, the blood...</td>\n",
       "    </tr>\n",
       "    <tr>\n",
       "      <th>2</th>\n",
       "      <td>2</td>\n",
       "      <td>17285</td>\n",
       "      <td>Tyrus Wong, ‘Bambi’ Artist Thwarted by Racial ...</td>\n",
       "      <td>New York Times</td>\n",
       "      <td>Margalit Fox</td>\n",
       "      <td>2017-01-06</td>\n",
       "      <td>2017.0</td>\n",
       "      <td>1.0</td>\n",
       "      <td>NaN</td>\n",
       "      <td>When Walt Disney’s “Bambi” opened in 1942, cri...</td>\n",
       "    </tr>\n",
       "    <tr>\n",
       "      <th>3</th>\n",
       "      <td>3</td>\n",
       "      <td>17286</td>\n",
       "      <td>Among Deaths in 2016, a Heavy Toll in Pop Musi...</td>\n",
       "      <td>New York Times</td>\n",
       "      <td>William McDonald</td>\n",
       "      <td>2017-04-10</td>\n",
       "      <td>2017.0</td>\n",
       "      <td>4.0</td>\n",
       "      <td>NaN</td>\n",
       "      <td>Death may be the great equalizer, but it isn’t...</td>\n",
       "    </tr>\n",
       "    <tr>\n",
       "      <th>4</th>\n",
       "      <td>4</td>\n",
       "      <td>17287</td>\n",
       "      <td>Kim Jong-un Says North Korea Is Preparing to T...</td>\n",
       "      <td>New York Times</td>\n",
       "      <td>Choe Sang-Hun</td>\n",
       "      <td>2017-01-02</td>\n",
       "      <td>2017.0</td>\n",
       "      <td>1.0</td>\n",
       "      <td>NaN</td>\n",
       "      <td>SEOUL, South Korea  —   North Korea’s leader, ...</td>\n",
       "    </tr>\n",
       "    <tr>\n",
       "      <th>...</th>\n",
       "      <td>...</td>\n",
       "      <td>...</td>\n",
       "      <td>...</td>\n",
       "      <td>...</td>\n",
       "      <td>...</td>\n",
       "      <td>...</td>\n",
       "      <td>...</td>\n",
       "      <td>...</td>\n",
       "      <td>...</td>\n",
       "      <td>...</td>\n",
       "    </tr>\n",
       "    <tr>\n",
       "      <th>95</th>\n",
       "      <td>95</td>\n",
       "      <td>17394</td>\n",
       "      <td>Corzine Reaches $5 Million Settlement With Reg...</td>\n",
       "      <td>New York Times</td>\n",
       "      <td>Ben Protess</td>\n",
       "      <td>2017-01-06</td>\n",
       "      <td>2017.0</td>\n",
       "      <td>1.0</td>\n",
       "      <td>NaN</td>\n",
       "      <td>After more than five years of investigations a...</td>\n",
       "    </tr>\n",
       "    <tr>\n",
       "      <th>96</th>\n",
       "      <td>96</td>\n",
       "      <td>17395</td>\n",
       "      <td>Sears Agrees to Sell Craftsman to Stanley Blac...</td>\n",
       "      <td>New York Times</td>\n",
       "      <td>Michael J. de la Merced</td>\n",
       "      <td>2017-01-06</td>\n",
       "      <td>2017.0</td>\n",
       "      <td>1.0</td>\n",
       "      <td>NaN</td>\n",
       "      <td>The question from the analyst on Thursday was ...</td>\n",
       "    </tr>\n",
       "    <tr>\n",
       "      <th>97</th>\n",
       "      <td>97</td>\n",
       "      <td>17396</td>\n",
       "      <td>L.I.R.R. Train That Crashed Was Going Over Twi...</td>\n",
       "      <td>New York Times</td>\n",
       "      <td>Emma G. Fitzsimmons</td>\n",
       "      <td>2017-01-06</td>\n",
       "      <td>2017.0</td>\n",
       "      <td>1.0</td>\n",
       "      <td>NaN</td>\n",
       "      <td>A Long Island Rail Road train that crashed in ...</td>\n",
       "    </tr>\n",
       "    <tr>\n",
       "      <th>98</th>\n",
       "      <td>98</td>\n",
       "      <td>17397</td>\n",
       "      <td>Record 2016 for U.S. Auto Industry Long Road B...</td>\n",
       "      <td>New York Times</td>\n",
       "      <td>Bill Vlasic</td>\n",
       "      <td>2017-01-05</td>\n",
       "      <td>2017.0</td>\n",
       "      <td>1.0</td>\n",
       "      <td>NaN</td>\n",
       "      <td>DETROIT  —   Unexpectedly strong sales of new ...</td>\n",
       "    </tr>\n",
       "    <tr>\n",
       "      <th>99</th>\n",
       "      <td>99</td>\n",
       "      <td>17398</td>\n",
       "      <td>Macy’s Will Cut 10,000 Jobs After Poor Holiday...</td>\n",
       "      <td>New York Times</td>\n",
       "      <td>Christopher Mele</td>\n",
       "      <td>2017-01-04</td>\n",
       "      <td>2017.0</td>\n",
       "      <td>1.0</td>\n",
       "      <td>NaN</td>\n",
       "      <td>Struggling with sagging sales over another cru...</td>\n",
       "    </tr>\n",
       "  </tbody>\n",
       "</table>\n",
       "<p>100 rows × 10 columns</p>\n",
       "</div>"
      ],
      "text/plain": [
       "    Unnamed: 0     id                                              title  \\\n",
       "0            0  17283  House Republicans Fret About Winning Their Hea...   \n",
       "1            1  17284  Rift Between Officers and Residents as Killing...   \n",
       "2            2  17285  Tyrus Wong, ‘Bambi’ Artist Thwarted by Racial ...   \n",
       "3            3  17286  Among Deaths in 2016, a Heavy Toll in Pop Musi...   \n",
       "4            4  17287  Kim Jong-un Says North Korea Is Preparing to T...   \n",
       "..         ...    ...                                                ...   \n",
       "95          95  17394  Corzine Reaches $5 Million Settlement With Reg...   \n",
       "96          96  17395  Sears Agrees to Sell Craftsman to Stanley Blac...   \n",
       "97          97  17396  L.I.R.R. Train That Crashed Was Going Over Twi...   \n",
       "98          98  17397  Record 2016 for U.S. Auto Industry Long Road B...   \n",
       "99          99  17398  Macy’s Will Cut 10,000 Jobs After Poor Holiday...   \n",
       "\n",
       "       publication                         author        date    year  month  \\\n",
       "0   New York Times                     Carl Hulse  2016-12-31  2016.0   12.0   \n",
       "1   New York Times  Benjamin Mueller and Al Baker  2017-06-19  2017.0    6.0   \n",
       "2   New York Times                   Margalit Fox  2017-01-06  2017.0    1.0   \n",
       "3   New York Times               William McDonald  2017-04-10  2017.0    4.0   \n",
       "4   New York Times                  Choe Sang-Hun  2017-01-02  2017.0    1.0   \n",
       "..             ...                            ...         ...     ...    ...   \n",
       "95  New York Times                    Ben Protess  2017-01-06  2017.0    1.0   \n",
       "96  New York Times        Michael J. de la Merced  2017-01-06  2017.0    1.0   \n",
       "97  New York Times            Emma G. Fitzsimmons  2017-01-06  2017.0    1.0   \n",
       "98  New York Times                    Bill Vlasic  2017-01-05  2017.0    1.0   \n",
       "99  New York Times               Christopher Mele  2017-01-04  2017.0    1.0   \n",
       "\n",
       "    url                                            content  \n",
       "0   NaN  WASHINGTON  —   Congressional Republicans have...  \n",
       "1   NaN  After the bullet shells get counted, the blood...  \n",
       "2   NaN  When Walt Disney’s “Bambi” opened in 1942, cri...  \n",
       "3   NaN  Death may be the great equalizer, but it isn’t...  \n",
       "4   NaN  SEOUL, South Korea  —   North Korea’s leader, ...  \n",
       "..  ...                                                ...  \n",
       "95  NaN  After more than five years of investigations a...  \n",
       "96  NaN  The question from the analyst on Thursday was ...  \n",
       "97  NaN  A Long Island Rail Road train that crashed in ...  \n",
       "98  NaN  DETROIT  —   Unexpectedly strong sales of new ...  \n",
       "99  NaN  Struggling with sagging sales over another cru...  \n",
       "\n",
       "[100 rows x 10 columns]"
      ]
     },
     "execution_count": 3,
     "metadata": {},
     "output_type": "execute_result"
    }
   ],
   "source": [
    "df"
   ]
  },
  {
   "cell_type": "markdown",
   "metadata": {},
   "source": [
    "1 - Ecrivez, par le biais d'une compréhension, un dictionnaire `length` qui associe à chaque identifiant d'article, la longueur de l'article en termes de nombres de mots"
   ]
  },
  {
   "cell_type": "code",
   "execution_count": 6,
   "metadata": {},
   "outputs": [
    {
     "data": {
      "text/plain": [
       "{17283: 5607,\n",
       " 17284: 27834,\n",
       " 17285: 14018,\n",
       " 17286: 12274,\n",
       " 17287: 4195,\n",
       " 17288: 911,\n",
       " 17289: 3549,\n",
       " 17290: 17996,\n",
       " 17291: 8890,\n",
       " 17292: 4585,\n",
       " 17293: 6841,\n",
       " 17294: 10845,\n",
       " 17295: 7733,\n",
       " 17296: 3741,\n",
       " 17297: 9932,\n",
       " 17298: 7939,\n",
       " 17300: 9498,\n",
       " 17301: 8824,\n",
       " 17302: 3334,\n",
       " 17303: 1773,\n",
       " 17305: 6059,\n",
       " 17306: 4476,\n",
       " 17307: 7335,\n",
       " 17308: 10446,\n",
       " 17309: 7997,\n",
       " 17311: 5787,\n",
       " 17312: 6469,\n",
       " 17313: 11053,\n",
       " 17314: 5334,\n",
       " 17317: 16520,\n",
       " 17318: 6209,\n",
       " 17319: 7339,\n",
       " 17321: 4622,\n",
       " 17323: 2482,\n",
       " 17324: 3089,\n",
       " 17325: 4639,\n",
       " 17326: 8098,\n",
       " 17327: 5943,\n",
       " 17328: 3899,\n",
       " 17330: 8008,\n",
       " 17331: 5956,\n",
       " 17332: 7786,\n",
       " 17333: 8314,\n",
       " 17334: 9415,\n",
       " 17335: 3464,\n",
       " 17336: 7991,\n",
       " 17337: 5259,\n",
       " 17338: 2221,\n",
       " 17339: 7622,\n",
       " 17340: 6232,\n",
       " 17341: 9768,\n",
       " 17342: 7701,\n",
       " 17344: 2230,\n",
       " 17345: 4915,\n",
       " 17346: 7964,\n",
       " 17347: 10917,\n",
       " 17348: 4383,\n",
       " 17349: 6676,\n",
       " 17350: 6797,\n",
       " 17352: 5294,\n",
       " 17353: 4134,\n",
       " 17354: 7010,\n",
       " 17355: 8360,\n",
       " 17356: 7984,\n",
       " 17358: 6428,\n",
       " 17360: 20337,\n",
       " 17361: 3131,\n",
       " 17362: 3522,\n",
       " 17363: 3592,\n",
       " 17364: 3837,\n",
       " 17365: 4503,\n",
       " 17366: 42882,\n",
       " 17367: 6879,\n",
       " 17368: 7131,\n",
       " 17369: 5570,\n",
       " 17370: 5371,\n",
       " 17371: 2219,\n",
       " 17373: 2372,\n",
       " 17374: 6884,\n",
       " 17376: 2151,\n",
       " 17378: 5657,\n",
       " 17379: 2026,\n",
       " 17381: 4068,\n",
       " 17382: 6070,\n",
       " 17383: 6847,\n",
       " 17384: 3896,\n",
       " 17385: 4814,\n",
       " 17386: 8102,\n",
       " 17387: 5410,\n",
       " 17388: 46386,\n",
       " 17389: 8309,\n",
       " 17390: 7111,\n",
       " 17391: 6388,\n",
       " 17392: 4214,\n",
       " 17393: 8817,\n",
       " 17394: 7446,\n",
       " 17395: 4351,\n",
       " 17396: 2997,\n",
       " 17397: 6678,\n",
       " 17398: 2967}"
      ]
     },
     "execution_count": 6,
     "metadata": {},
     "output_type": "execute_result"
    }
   ],
   "source": [
    "id = [id for id in list(df['id'])]\n",
    "length = {id[i]: len(news[i]) for i in range(len(news))}\n",
    "length"
   ]
  },
  {
   "cell_type": "markdown",
   "metadata": {},
   "source": [
    "2 - Ecrivez une instruction donnant l'identifiant de l'article ayant le plus de mots en utilisant le dictionnaire `length`."
   ]
  },
  {
   "cell_type": "code",
   "execution_count": 33,
   "metadata": {},
   "outputs": [
    {
     "name": "stdout",
     "output_type": "stream",
     "text": [
      "17388\n"
     ]
    }
   ],
   "source": [
    "is_greater = lambda x : all(x >= size for size in length.values())\n",
    "greater = 0\n",
    "for i in length:\n",
    "    if is_greater(length[i]):\n",
    "        greater = i\n",
    "print(greater)\n"
   ]
  },
  {
   "cell_type": "code",
   "execution_count": 17,
   "metadata": {},
   "outputs": [
    {
     "data": {
      "text/plain": [
       "17388"
      ]
     },
     "execution_count": 17,
     "metadata": {},
     "output_type": "execute_result"
    }
   ],
   "source": [
    "is_greater = lambda x : all(x >= size for size in length.values())\n",
    "d = {is_greater(length [i]) : i for i in length}\n",
    "greater = d[True]\n",
    "greater"
   ]
  },
  {
   "cell_type": "code",
   "execution_count": 18,
   "metadata": {},
   "outputs": [
    {
     "data": {
      "text/plain": [
       "89"
      ]
     },
     "execution_count": 18,
     "metadata": {},
     "output_type": "execute_result"
    }
   ],
   "source": [
    "data = {i: len(n) for i, n in enumerate(news)}\n",
    "is_greater = lambda x : all(x >= size for size in data.values())\n",
    "d = {is_greater(data [i]) : i for i in data}\n",
    "greater = d[True]\n",
    "greater"
   ]
  },
  {
   "cell_type": "markdown",
   "metadata": {},
   "source": [
    "3 - Faites de même sans utiliser le dictionnaire `length`, en agissant directement sur la variable `data`."
   ]
  },
  {
   "cell_type": "code",
   "execution_count": 19,
   "metadata": {},
   "outputs": [
    {
     "data": {
      "text/plain": [
       "89"
      ]
     },
     "execution_count": 19,
     "metadata": {},
     "output_type": "execute_result"
    }
   ],
   "source": [
    "data = {i: n for i, n in enumerate(news)}\n",
    "is_greater = lambda x : all(len(x) >= len(size) for size in data.values())\n",
    "d = {is_greater(data [i]) : i for i in data}\n",
    "greater = d[True]\n",
    "greater"
   ]
  },
  {
   "cell_type": "markdown",
   "metadata": {},
   "source": [
    "4 - Ecrire en une seule instruction le code qui, considérant la chaîne `s`, génère son accronyme, à savoir la chaine de caractères composées des initiales des différents mots qui composent la chaîne `s`. Par exemple, si `s` vaut `\"Code pour générer des mots de passe à partir d'une phrase\"`, l'instruction devra produire `\"Cpgdmdpàpdp\"`"
   ]
  },
  {
   "cell_type": "code",
   "execution_count": 23,
   "metadata": {},
   "outputs": [
    {
     "data": {
      "text/plain": [
       "'Cpgdmdpàpdp'"
      ]
     },
     "execution_count": 23,
     "metadata": {},
     "output_type": "execute_result"
    }
   ],
   "source": [
    "s = \"Code pour générer des mots de passe à partir d'une phrase\"\n",
    "chaine = \"\".join([word[0] for word in s.split()])\n",
    "chaine"
   ]
  },
  {
   "cell_type": "markdown",
   "metadata": {},
   "source": [
    "5 - Modifiez le code précédent de sorte que les lettres de l'accronyme soient alternativement en majuscule et en minuscule. Avec la chaîne `s` précédente, la chaine retournée serait `\"CpGdMdPàPdP\""
   ]
  },
  {
   "cell_type": "code",
   "execution_count": 44,
   "metadata": {},
   "outputs": [
    {
     "data": {
      "text/plain": [
       "'CpGdMdPàPdP'"
      ]
     },
     "execution_count": 44,
     "metadata": {},
     "output_type": "execute_result"
    }
   ],
   "source": [
    "s = \"Code pour générer des mots de passe à partir d'une phrase\"\n",
    "chaine = \"\".join([word[0].upper() if idx%2 == 0 else word[0].lower() for idx, word in enumerate(s.split())])\n",
    "chaine"
   ]
  },
  {
   "cell_type": "markdown",
   "metadata": {},
   "source": [
    "6 - Modifiez le code de sorte que l'instruction produisent un accronyme constitués des majuscultes des initiales des mots, mais les initiales des mots dont l'indice est multiple de 3 ne devront pas inclus dans l'accronyme. Par exemple pour la chaine `s` précédente, l'instruction devra produire `'PGMDÀPP`"
   ]
  },
  {
   "cell_type": "code",
   "execution_count": 42,
   "metadata": {},
   "outputs": [
    {
     "data": {
      "text/plain": [
       "'PGMDÀPP'"
      ]
     },
     "execution_count": 42,
     "metadata": {},
     "output_type": "execute_result"
    }
   ],
   "source": [
    "s = \"Code pour générer des mots de passe à partir d'une phrase\"\n",
    "chaine = \"\".join([word[0].upper() for word in [s.split()[i] for i in [j for j in range(len(s.split())) if j%3 != 0]]])\n",
    "chaine"
   ]
  },
  {
   "cell_type": "markdown",
   "metadata": {},
   "source": [
    "7 - Adaptez le code de sorte que dans la chaine produite, les caractères soient en majuscules et que pour les mots d'indice multiple de 3, au lieu de l'initiale on trouve la longueur du mots en termes de nombre de caractères. Par exemple, avec la chaine `s` précédente, la chaîne renvoyée serait `'4PG3MD5ÀP5P'`."
   ]
  },
  {
   "cell_type": "code",
   "execution_count": 43,
   "metadata": {},
   "outputs": [
    {
     "data": {
      "text/plain": [
       "'4PG3MD5ÀP5P'"
      ]
     },
     "execution_count": 43,
     "metadata": {},
     "output_type": "execute_result"
    }
   ],
   "source": [
    "s = \"Code pour générer des mots de passe à partir d'une phrase\"\n",
    "chaine = \"\".join([word[0].upper() if idx%3 != 0 else str(len(word)) for idx, word in enumerate(s.split())])\n",
    "chaine"
   ]
  }
 ],
 "metadata": {
  "kernelspec": {
   "display_name": "Python 3 (ipykernel)",
   "language": "python",
   "name": "python3"
  },
  "language_info": {
   "codemirror_mode": {
    "name": "ipython",
    "version": 3
   },
   "file_extension": ".py",
   "mimetype": "text/x-python",
   "name": "python",
   "nbconvert_exporter": "python",
   "pygments_lexer": "ipython3",
   "version": "3.10.12"
  }
 },
 "nbformat": 4,
 "nbformat_minor": 4
}
