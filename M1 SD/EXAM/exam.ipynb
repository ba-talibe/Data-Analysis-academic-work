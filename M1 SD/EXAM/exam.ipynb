{
 "cells": [
  {
   "cell_type": "code",
   "execution_count": 1,
   "metadata": {},
   "outputs": [
    {
     "name": "stderr",
     "output_type": "stream",
     "text": [
      "/home/UR/baoum2/.local/lib/python3.10/site-packages/matplotlib/projections/__init__.py:63: UserWarning: Unable to import Axes3D. This may be due to multiple versions of Matplotlib being installed (e.g. as a system package and as a pip package). As a result, the 3D projection is not available.\n",
      "  warnings.warn(\"Unable to import Axes3D. This may be due to multiple versions of \"\n"
     ]
    }
   ],
   "source": [
    "\n",
    "import matplotlib.pyplot as plt\n",
    "from sklearn import datasets\n",
    "from sklearn.decomposition import PCA, KernelPCA\n",
    "from sklearn.preprocessing import StandardScaler\n",
    "\n",
    "import numpy as np\n",
    "import scipy as sp #right=True.\n",
    "from operator import itemgetter, attrgetter\n"
   ]
  },
  {
   "cell_type": "code",
   "execution_count": null,
   "metadata": {},
   "outputs": [],
   "source": [
    "digits = datasets.load_digits()\n",
    "\n",
    "X_digits = digits.data\n",
    "y_digits = digits.target\n"
   ]
  },
  {
   "cell_type": "code",
   "execution_count": null,
   "metadata": {},
   "outputs": [],
   "source": [
    "\n",
    "def TriVP(Valp,Vectp):\n",
    "    # trie dans l'ordre décroisant les valeurs propres\n",
    "    # en cas de valeurs propres complexes on trie  selon leu module\n",
    "    liste1 = Vectp.tolist()\n",
    "    liste2 = Valp.tolist()\n",
    "    norme = np.abs(Valp)\n",
    "    liste3 = norme.tolist()\n",
    "\n",
    "    result = zip(liste1, liste2,liste3)\n",
    "    result_trie =sorted(result,key =itemgetter(2), reverse=True)\n",
    "    liste1, liste2, liste3 =  zip(*result_trie)\n",
    "    Vectp = np.asarray(liste1)\n",
    "    Valp = np.asarray(liste2)\n",
    "    \n",
    "    return Valp,Vectp\n",
    "\n",
    "\n",
    "def myACP(X):\n",
    "    n = X.shape[1]\n",
    "    m = X.shape[0]\n",
    "    moy = np.sum(X,0)/m # axe de la matrice selon lequel on somme\n",
    "    np.reshape(moy,(n,1))\n",
    "\n",
    "    # données centrées\n",
    "    XC = X - moy.T\n",
    "    \n",
    "    # covariance\n",
    "    S = XC.T @ XC / m\n",
    "\n",
    "    # calcule des valeurs propres et vecteurs propres\n",
    "    # vecteurs propres de norme 1 rangés en colonnes\n",
    "    Valp, Vectp = np.linalg.eig(S) \n",
    "\n",
    "    # il faut ordonner dans l'ordre des valeurs propres décroissantes\n",
    "    Valp,Vectp = TriVP(Valp,Vectp)\n",
    "\n",
    "    # on projette sur les deux premiers axes principaux\n",
    "    Projection = XC @ Vectp[:,:2]\n",
    "    #print(\"my_ACP\")\n",
    "    #print(Vectp)\n",
    "    \n",
    "    #print(\"produits scalaires\",Vectp.T @ Vectp)\n",
    "    return Projection, Valp, Vectp\n",
    "\n",
    "###############################################################################\n",
    "def n_composantes(Val_P,p):\n",
    "    total = np.sum(Val_P)\n",
    "    somme = np.cumsum(Val_P/total)\n",
    "\n",
    "    i = 0\n",
    "    while somme[i]< p:\n",
    "        i+= 1\n",
    "\n",
    "    return somme, i\n",
    "################################################\n",
    "def approximation( X, Vect_P, n_p):\n",
    "    # calcul de la moyenne\n",
    "    m , d = X.shape\n",
    "\n",
    "    moy = np.sum(X,0)/m\n",
    "    XC = X - moy\n",
    "\n",
    "    X_app = np.zeros((m,d))\n",
    "    for i in range(m):\n",
    "        # ajout des n valeurs projetées\n",
    "        projections = (XC[i,:]@Vect_P[:,0:n_p]).reshape((1,n_p))\n",
    "        projections = np.repeat(projections,d,axis =0)\n",
    "        X_app[i,:]= moy + np.sum(projections*Vect_P[:,0:n_p],axis=1)\n",
    "        \n",
    "    return X_app\n",
    "\n",
    "\n"
   ]
  }
 ],
 "metadata": {
  "kernelspec": {
   "display_name": "Python 3",
   "language": "python",
   "name": "python3"
  },
  "language_info": {
   "codemirror_mode": {
    "name": "ipython",
    "version": 3
   },
   "file_extension": ".py",
   "mimetype": "text/x-python",
   "name": "python",
   "nbconvert_exporter": "python",
   "pygments_lexer": "ipython3",
   "version": "3.10.12"
  }
 },
 "nbformat": 4,
 "nbformat_minor": 2
}
