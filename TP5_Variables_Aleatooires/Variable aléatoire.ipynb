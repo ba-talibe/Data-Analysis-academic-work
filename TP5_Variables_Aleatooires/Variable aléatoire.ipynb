{
 "cells": [
  {
   "attachments": {},
   "cell_type": "markdown",
   "metadata": {},
   "source": [
    "# Probabilités\n",
    "\n",
    "## Espace de probabilité\n",
    "\n",
    "Une expérience aléatoire est une expérience qui, lorsqu'elle est répétée, n'a aucune raison de produire un résultat identique.\n",
    "\n",
    "On appelle \"épreuve\" la réalisation d'une expérience aléatoire\n",
    "\n",
    "On appelle \"événement élémentaire\" le résultat d'une expérience aléatoire.\n",
    "\n",
    "On appelle ensemble des possibles, noté $\\Omega$, l'ensemble des événements élémentaires lié à une expérience aléatoire.\n",
    "\n",
    "$$\\Omega=\\{\\omega_0, \\omega_1,\\dots,\\omega_n\\}$$\n",
    "\n",
    "On appelle événement un sous-ensemble de l'ensemble des possibles.\n",
    "\n",
    "$$A \\subseteq \\Omega$$\n",
    "\n",
    "L'événement complémentaire $\\overline{A}$ est celui qui se réalise si et seulement si $A$ ne se réalise pas.\n",
    "\n",
    "L'événement $A \\cup B$ est l'événement qui se réalise si $A$ se réalise ou si $B$ se réalise. $A \\cup B$ est l'union des événements élémentaires composant $A$ et des événements élémentaires composant $B$.\n",
    "\n",
    "L'événement $A \\cap B$ est l'événement qui se réalise si et seulement si $A$ se réalise et $B$ se réalise. $A \\cap B$ est l'intersection des événements élémentaires composant $A$ et des événements élémentaires composant $B$.\n",
    "\n",
    "$\\mathcal{F}$ est l'ensemble de tous les événements possibles (pas seulement les événements élémentaires).\n",
    "\n",
    "A chaque événement $A$, on associe une mesure de probabilité $P(A)$ telle que :\n",
    "- $0 \\leq P(A) \\leq 1$\n",
    "- $P(\\emptyset) = 0$\n",
    "- $P(\\Omega)=1$\n",
    "- si $A \\cap B = \\emptyset$, alors $P(A \\cup B) = P(A) + P(B)$\n",
    "\n",
    "$\\Omega$ est l'événement certain (P(\\Omega)=1)\n",
    "\n",
    "Des propriétés suivantes, on peut déduire d'autres propriétés :\n",
    "- $P(\\overline{A}) = 1 - P(A)$\n",
    "- $P( A \\cup B) = P(A) + P(B) - P(A \\cap B)$\n",
    "\n",
    "## Probabilités conditionnelles\n",
    "\n",
    "Soient deux événements $A$ et $B$, on note $P(A|B)$ la probabilité conditionnelle de l'événement $A$ conditionnellement à $B$. Il s'agit de la probabilité que $A$ se réalise quand $B$ se reéalise.\n",
    "\n",
    "$$P(A|B) = \\frac{P(A \\cap B)}{P(B)}$$\n",
    "\n",
    "$$P(A \\cap B) = P(A|B).P(B) = P(B|A)P(A)$$\n",
    "\n",
    "### Théorème de Bayes\n",
    "\n",
    "$$P(A|B)=\\frac{P(B|A).P(A)}{P(B)}$$\n",
    "\n",
    "### Indépendance\n",
    "\n",
    "L'événement $A$ est indépendant de l'événement $B$, si et seulement si le fait que $B$ se réalisse n'a aucune influence sur la probabilité de $A$.\n",
    "\n",
    "$$A \\textrm{ est indépendant de }B \\Leftrightarrow P(A|B) = P(A)$$\n",
    "\n",
    "$$P(A|B) = P(A)$$\n",
    "$$P(A|B).P(B) = P(A).P(B)$$\n",
    "$$P(A \\cap B) = P(A).P(B)$$\n",
    "$$P(B|A).P(A) = P(A).P(B)$$\n",
    "$$P(B|A) = P(B)$$\n",
    "\n",
    "### Propriétés des probabilités conditionnelles\n",
    "\n",
    "1 - Soient deux événement $A$ et $B$ disjoints ($A \\cap B = \\emptyset$) et $C$ un évènement quelconque. On montre que $P(A \\cup B | C) = P(A|C) + P(B|C)$\n",
    "\n",
    "2 - Soient deux événements $A$ et $B$, $P(B) = P(B|A).P(A) + P(B|\\overline{A}).P(\\overline{A})$\n",
    "\n",
    "3 - Plus généralement, soit une partition de $A$, $A = \\bigcup_i A_i$ et $\\forall i,j, i \\neq j, A_i \\cap A_j = \\emptyset$, $P(B) = \\sum_i P(B|A_i)P(A_i)$"
   ]
  },
  {
   "attachments": {},
   "cell_type": "markdown",
   "metadata": {},
   "source": [
    "# Variable aléatoire\n",
    "\n",
    "\n",
    "## Définition\n",
    "\n",
    "Le résultat d'une expérience aléatoire est un événement élémentaire $\\omega$ appartenant à l'ensemble des possibles.\n",
    "\n",
    "$$\\omega \\in \\Omega$$\n",
    "\n",
    "Une variable aléatoire est une fonction qui associe une valeur numérique à un événement aléatoire.\n",
    "\n",
    "$$\n",
    "\\begin{array}{rcl}\n",
    "X & : & \\Omega \\rightarrow \\mathbb{C}^n \\\\\n",
    "& & \\omega \\mapsto X(\\omega) \\in \\mathbb{C}^n \n",
    "\\end{array}\n",
    "$$\n",
    "\n",
    "Si $n=1$, on dit que $X$ est scalaire. Si $X \\in \\mathbb{R}^n$, on dit que $X$ est réelle.\n",
    "\n",
    "Restregnons-nous dans un premier temps aux variables aléatoires réelles pour simplifier\n",
    "\n",
    "$X$ doit être mesurable, c'est-à-dire que, pour tout $x \\in \\mathbb{R}^n$, l'événement $A(x) = \\{\\omega \\in \\Omega, X_1(\\omega) \\leq x_1, \\dots X_n(\\omega) \\leq x_n \\}$ et qu'on peut lui associer une mesure de probabilité $P(A(x))$.\n",
    "\n",
    "Dans le cas scalaire, pour tout réel $x$, $A(x)=\\{\\omega \\in \\Omega, X(\\omega) \\leq x \\}$ doit être défini et on peut lui associer une mesure de probabilité.\n",
    "\n",
    "## Fonction de répartition d'une variable aléatoire scalaire réelle \n",
    "\n",
    "La fonction de répartition d'une variable aléatoire scalaire réelle $X$, notée $F_X(x)$ est une fonction réelle du réel $x$, et est définie par $P(A(x)) = P(X(\\omega)\\leq x)$.\n",
    "\n",
    "$F_X$ est croissante.\n",
    "\n",
    "$\\lim_{x \\rightarrow +\\infty}F_X = 1$\n",
    "\n",
    "$\\lim_{x \\rightarrow -\\infty}F_X = 0$\n",
    "\n",
    "## Variables aléatoires discrètes\n",
    "\n",
    "On distingue les variables aléatoires discrètes des variables aléatoires continues. Une variable aléatoire discrète ne prend ses valeurs que dans un ensemble fini de valeurs $x_i$ avec des probabilités $p_i = P(X(\\omega)=x_i)$\n",
    "\n",
    "$$\\sum_i P(X(\\omega)=x_i) = \\sum_i p_i = 1$$\n",
    "\n",
    "$$F_X(x) = P(X(\\omega)\\leq x) = \\sum_{X(\\omega) \\leq x_i} p_i$$\n",
    "\n",
    "$F_X(x)$ est constante par morceau, avec des sauts d'amplitude $p_i$ aux abscisses $x_i$.\n",
    "\n",
    "## Variables aléatoires continues\n",
    "\n",
    "La fonction de répartition d'une variable aléatoire scalaire réelle continue est continue et dérivable sur $\\mathbb{R}$. Sa dérivée, appelée densité de probabilité est notée $p_X(x)$.\n",
    "    \n",
    "$$p_X(x) = \\frac{dF_X(x)}{dx}$$\n",
    "\n",
    "$$P(X(\\omega) \\leq x)= F_X(x) = \\int_{-\\infty}^x F_X(t)\\, dt$$\n",
    "\n",
    "$$P(a < X(\\omega) \\leq b) = F_X(b) - F_X(a) = \\int_a^b F_X(t)\\, dt$$\n",
    "\n",
    "$p_X(x)$ est croissante\n",
    "\n",
    "$\\int_{-\\infty}^{+\\infty}p_X(t)\\,dt = 1$\n",
    "\n",
    "$P(X=a) = 0$\n",
    "\n",
    "## Moments d'une variable aléatoire scalaire réelle\n",
    "\n",
    "### Espérance mathématique -- Moment d'ordre 1\n",
    "\n",
    "Pour une fonction réelle $h$ d'une variable réelle, \n",
    "\n",
    "$E(h(X)) = \\sum_i h(x_i).p_i$ pour une variable aléatoire discrète\n",
    "\n",
    "$E(h(X)) = \\int_{-\\infty}^{+\\infty}h(x).p(x)\\,dx$ pour une variable aléatoire continue\n",
    "\n",
    "En particulier, \n",
    "\n",
    "$E(X) = \\sum_i x_i.p_i$ pour une variable aléatoire discrète\n",
    "\n",
    "$E(X) = \\int_{-\\infty}^{+\\infty}x.p(x)\\,dx$ pour une variable aléatoire continue\n",
    "\n",
    "### Moments d'ordre $k$\n",
    "\n",
    "Les moments d'ordre $k$, notés $m_k$, sont obtenus dans le cas particulier où $h(x)=x^k$. Ainsi, le moment d'ordre $k$ de la variable aléatoire $X$ est $m_k=E(X^k)$.\n",
    "\n",
    "### Moments centrés \n",
    "\n",
    "On appelle moment centré d'ordre $k$, noté $\\mu_k$, la quantité $E[(X-E(X))^k]$. \n",
    "\n",
    "Le moment centré d'ordre 1 est toujours nul.\n",
    "\n",
    "On appelle variance, également notée $\\sigma^2$ le moment centré d'ordre 2. $\\sigma$ est l'écart-type. Ces deux quatités dont une idée de la dispersion de la variable aléatoire autour de sa valeur moyenne.\n",
    "\n",
    "### Propriétés des moments\n",
    "\n",
    "Une variable aléatoire dont la densité de probabilité est une fonction paire a tous ses moments d'ordre impair nuls, en particulier l'espérance mathématique (moment d'ordre 1).\n",
    "\n",
    "Si une variable aléatoire dispose d'une densité de probabiité présentant une symétrie autour d'une valeur $c$ ( $p(c-x) = p(c+x)$ ), alors l'espérance mathématique de cette variable est la constante $c$.\n",
    "\n",
    "## Distributions usuelles\n",
    "\n",
    "### Distribution uniforme\n",
    "\n",
    "Une variable aléatoire $X$ est dite uniforme entre $a$ et $b$, si sa densité de probabilité est constante entre $a$ et $b$ et nulle ailleurs.\n",
    "\n",
    "$p_X(x) = \\frac{u(x-a) - u(x-b)}{b-a}$ avec $u(x)$ la fonction échelon valant 0 si $x<0$ et 1 si $x>0$\n",
    "\n",
    "$m = \\frac{a+b}{2}$\n",
    "\n",
    "$\\sigma^2 = \\frac{(b-a)^2}{12}$\n",
    "\n",
    "### Distribution exponentielle monolatérale\n",
    "\n",
    "Une variable aléatoire $X$ suit une loi de probabilité exponentielle monolatérale de paramètre $\\alpha$ (\\alpha > 0) si sa densité de probabilité est définie par \n",
    "\n",
    "$$p_X(x) = u(x).\\alpha e^{-\\alpha.x}$$\n",
    "\n",
    "$m = \\frac{1}{\\alpha}$\n",
    "\n",
    "$\\sigma^2 = \\frac{1}{\\alpha^2}$\n",
    "\n",
    "### Distribution exponentielle bilatérale\n",
    "\n",
    "Une variable aléatoire $X$ suit une loi de probabilité exponentielle bilatérale de paramètre $\\alpha$ (\\alpha > 0) si sa densité de probabilité est définie par \n",
    "\n",
    "$$p_X(x) = \\frac{\\alpha}{2} e^{-\\alpha.|x|}$$\n",
    "\n",
    "$m = 0$\n",
    "\n",
    "$\\sigma^2 = \\frac{2}{\\alpha^2}$\n",
    "\n",
    "### Distribution normale (Gaussienne) de paramètres $m$ et $\\sigma$\n",
    "\n",
    "Une variable aléatoire $X$ suit une loi de probabilité normale de paramètres $m$ et $\\sigma$ (\\sigma > 0) si sa densité de probabilité est définie par \n",
    "\n",
    "$$p_X(x) = \\frac{1}{\\sqrt{2.\\Pi}.\\sigma} e^{-\\frac{(x-m)^2}{2.\\sigma^2}}$$\n",
    "\n",
    "$m = m$\n",
    "\n",
    "$\\sigma^2 = \\sigma^2$\n",
    "\n",
    "### Loi de Bernoulli\n",
    "\n",
    "Une variable aléatoire $X$ suit une loi de Bernoulli de paramètre $p$ si elle prend ses valeurs dans $\\{0, 1\\}$ avec $P(X=1)=p$\n",
    "\n",
    "$E(X) = p$\n",
    "\n",
    "$V(X) = p.(1-p)$\n",
    "\n",
    "### Loi de Binomiale\n",
    "\n",
    "Une variable aléatoire $X$ suit une loi binomiale de paramètres $n$ et $p$ si elle prend ses valeurs dans $\\{0, 1, \\dots, n\\}$ avec $P(X=k)=C_n^k.p^k (1-p)^{n-k}$\n",
    "\n",
    "$E(X) = np$\n",
    "\n",
    "$V(X) = n.p.(1-p)$\n",
    "\n",
    "### Loi de Poisson\n",
    "\n",
    "Une variable aléatoire $X$ suit une loi de Poisson de paramètre $\\lambda$ si elle prend ses valeurs dans $\\mathbb{N}$ avec $P(X=k)=e^{-\\lambda} \\frac{\\lambda^k}{k!}$\n",
    "\n",
    "$E(X) = \\lambda$\n",
    "\n",
    "$V(X) = \\lambda$"
   ]
  },
  {
   "attachments": {},
   "cell_type": "markdown",
   "metadata": {},
   "source": [
    "# Manipulations\n",
    "\n",
    "`numpy.random` intègre déjà des fonctionnalités pour générer des tirages aléatoires selon les distributions présentées précédemment. Cependant, dans les manipulations qui vont suivre, nous allons reproduire ces fonctions à partir de la fonction `numpy.random.rand()` qui génère des variables aléatoires uniformes comprises entre 0 et 1."
   ]
  },
  {
   "attachments": {},
   "cell_type": "markdown",
   "metadata": {},
   "source": [
    "## Etude de la distribution uniforme entre 0 et 1\n",
    "\n",
    "Utilisez la fonction `numpy.random.rand()` pour générer un échantillon de `n` valeurs."
   ]
  },
  {
   "cell_type": "code",
   "execution_count": null,
   "metadata": {},
   "outputs": [
    {
     "ename": "",
     "evalue": "",
     "output_type": "error",
     "traceback": [
      "\u001b[1;31mÉchec du démarrage du Kernel. \n",
      "\u001b[1;31mPour plus d’informations, consultez Jupyter <a href='command:jupyter.viewOutput'>log</a>."
     ]
    }
   ],
   "source": [
    "import numpy as np\n",
    "import matplotlib.pyplot as plt\n",
    "\n",
    "# Votre code ici\n",
    "interval = np.random.rand(10)\n",
    "interval\n"
   ]
  },
  {
   "attachments": {},
   "cell_type": "markdown",
   "metadata": {},
   "source": [
    "Utilisez la fonction `hist` de `matplotlib` pour visualiser la distribution des données tirées aléatoirement."
   ]
  },
  {
   "cell_type": "code",
   "execution_count": 18,
   "metadata": {},
   "outputs": [
    {
     "data": {
      "application/javascript": "/* Put everything inside the global mpl namespace */\n/* global mpl */\nwindow.mpl = {};\n\nmpl.get_websocket_type = function () {\n    if (typeof WebSocket !== 'undefined') {\n        return WebSocket;\n    } else if (typeof MozWebSocket !== 'undefined') {\n        return MozWebSocket;\n    } else {\n        alert(\n            'Your browser does not have WebSocket support. ' +\n                'Please try Chrome, Safari or Firefox ≥ 6. ' +\n                'Firefox 4 and 5 are also supported but you ' +\n                'have to enable WebSockets in about:config.'\n        );\n    }\n};\n\nmpl.figure = function (figure_id, websocket, ondownload, parent_element) {\n    this.id = figure_id;\n\n    this.ws = websocket;\n\n    this.supports_binary = this.ws.binaryType !== undefined;\n\n    if (!this.supports_binary) {\n        var warnings = document.getElementById('mpl-warnings');\n        if (warnings) {\n            warnings.style.display = 'block';\n            warnings.textContent =\n                'This browser does not support binary websocket messages. ' +\n                'Performance may be slow.';\n        }\n    }\n\n    this.imageObj = new Image();\n\n    this.context = undefined;\n    this.message = undefined;\n    this.canvas = undefined;\n    this.rubberband_canvas = undefined;\n    this.rubberband_context = undefined;\n    this.format_dropdown = undefined;\n\n    this.image_mode = 'full';\n\n    this.root = document.createElement('div');\n    this.root.setAttribute('style', 'display: inline-block');\n    this._root_extra_style(this.root);\n\n    parent_element.appendChild(this.root);\n\n    this._init_header(this);\n    this._init_canvas(this);\n    this._init_toolbar(this);\n\n    var fig = this;\n\n    this.waiting = false;\n\n    this.ws.onopen = function () {\n        fig.send_message('supports_binary', { value: fig.supports_binary });\n        fig.send_message('send_image_mode', {});\n        if (fig.ratio !== 1) {\n            fig.send_message('set_device_pixel_ratio', {\n                device_pixel_ratio: fig.ratio,\n            });\n        }\n        fig.send_message('refresh', {});\n    };\n\n    this.imageObj.onload = function () {\n        if (fig.image_mode === 'full') {\n            // Full images could contain transparency (where diff images\n            // almost always do), so we need to clear the canvas so that\n            // there is no ghosting.\n            fig.context.clearRect(0, 0, fig.canvas.width, fig.canvas.height);\n        }\n        fig.context.drawImage(fig.imageObj, 0, 0);\n    };\n\n    this.imageObj.onunload = function () {\n        fig.ws.close();\n    };\n\n    this.ws.onmessage = this._make_on_message_function(this);\n\n    this.ondownload = ondownload;\n};\n\nmpl.figure.prototype._init_header = function () {\n    var titlebar = document.createElement('div');\n    titlebar.classList =\n        'ui-dialog-titlebar ui-widget-header ui-corner-all ui-helper-clearfix';\n    var titletext = document.createElement('div');\n    titletext.classList = 'ui-dialog-title';\n    titletext.setAttribute(\n        'style',\n        'width: 100%; text-align: center; padding: 3px;'\n    );\n    titlebar.appendChild(titletext);\n    this.root.appendChild(titlebar);\n    this.header = titletext;\n};\n\nmpl.figure.prototype._canvas_extra_style = function (_canvas_div) {};\n\nmpl.figure.prototype._root_extra_style = function (_canvas_div) {};\n\nmpl.figure.prototype._init_canvas = function () {\n    var fig = this;\n\n    var canvas_div = (this.canvas_div = document.createElement('div'));\n    canvas_div.setAttribute('tabindex', '0');\n    canvas_div.setAttribute(\n        'style',\n        'border: 1px solid #ddd;' +\n            'box-sizing: content-box;' +\n            'clear: both;' +\n            'min-height: 1px;' +\n            'min-width: 1px;' +\n            'outline: 0;' +\n            'overflow: hidden;' +\n            'position: relative;' +\n            'resize: both;' +\n            'z-index: 2;'\n    );\n\n    function on_keyboard_event_closure(name) {\n        return function (event) {\n            return fig.key_event(event, name);\n        };\n    }\n\n    canvas_div.addEventListener(\n        'keydown',\n        on_keyboard_event_closure('key_press')\n    );\n    canvas_div.addEventListener(\n        'keyup',\n        on_keyboard_event_closure('key_release')\n    );\n\n    this._canvas_extra_style(canvas_div);\n    this.root.appendChild(canvas_div);\n\n    var canvas = (this.canvas = document.createElement('canvas'));\n    canvas.classList.add('mpl-canvas');\n    canvas.setAttribute(\n        'style',\n        'box-sizing: content-box;' +\n            'pointer-events: none;' +\n            'position: relative;' +\n            'z-index: 0;'\n    );\n\n    this.context = canvas.getContext('2d');\n\n    var backingStore =\n        this.context.backingStorePixelRatio ||\n        this.context.webkitBackingStorePixelRatio ||\n        this.context.mozBackingStorePixelRatio ||\n        this.context.msBackingStorePixelRatio ||\n        this.context.oBackingStorePixelRatio ||\n        this.context.backingStorePixelRatio ||\n        1;\n\n    this.ratio = (window.devicePixelRatio || 1) / backingStore;\n\n    var rubberband_canvas = (this.rubberband_canvas = document.createElement(\n        'canvas'\n    ));\n    rubberband_canvas.setAttribute(\n        'style',\n        'box-sizing: content-box;' +\n            'left: 0;' +\n            'pointer-events: none;' +\n            'position: absolute;' +\n            'top: 0;' +\n            'z-index: 1;'\n    );\n\n    // Apply a ponyfill if ResizeObserver is not implemented by browser.\n    if (this.ResizeObserver === undefined) {\n        if (window.ResizeObserver !== undefined) {\n            this.ResizeObserver = window.ResizeObserver;\n        } else {\n            var obs = _JSXTOOLS_RESIZE_OBSERVER({});\n            this.ResizeObserver = obs.ResizeObserver;\n        }\n    }\n\n    this.resizeObserverInstance = new this.ResizeObserver(function (entries) {\n        var nentries = entries.length;\n        for (var i = 0; i < nentries; i++) {\n            var entry = entries[i];\n            var width, height;\n            if (entry.contentBoxSize) {\n                if (entry.contentBoxSize instanceof Array) {\n                    // Chrome 84 implements new version of spec.\n                    width = entry.contentBoxSize[0].inlineSize;\n                    height = entry.contentBoxSize[0].blockSize;\n                } else {\n                    // Firefox implements old version of spec.\n                    width = entry.contentBoxSize.inlineSize;\n                    height = entry.contentBoxSize.blockSize;\n                }\n            } else {\n                // Chrome <84 implements even older version of spec.\n                width = entry.contentRect.width;\n                height = entry.contentRect.height;\n            }\n\n            // Keep the size of the canvas and rubber band canvas in sync with\n            // the canvas container.\n            if (entry.devicePixelContentBoxSize) {\n                // Chrome 84 implements new version of spec.\n                canvas.setAttribute(\n                    'width',\n                    entry.devicePixelContentBoxSize[0].inlineSize\n                );\n                canvas.setAttribute(\n                    'height',\n                    entry.devicePixelContentBoxSize[0].blockSize\n                );\n            } else {\n                canvas.setAttribute('width', width * fig.ratio);\n                canvas.setAttribute('height', height * fig.ratio);\n            }\n            /* This rescales the canvas back to display pixels, so that it\n             * appears correct on HiDPI screens. */\n            canvas.style.width = width + 'px';\n            canvas.style.height = height + 'px';\n\n            rubberband_canvas.setAttribute('width', width);\n            rubberband_canvas.setAttribute('height', height);\n\n            // And update the size in Python. We ignore the initial 0/0 size\n            // that occurs as the element is placed into the DOM, which should\n            // otherwise not happen due to the minimum size styling.\n            if (fig.ws.readyState == 1 && width != 0 && height != 0) {\n                fig.request_resize(width, height);\n            }\n        }\n    });\n    this.resizeObserverInstance.observe(canvas_div);\n\n    function on_mouse_event_closure(name) {\n        /* User Agent sniffing is bad, but WebKit is busted:\n         * https://bugs.webkit.org/show_bug.cgi?id=144526\n         * https://bugs.webkit.org/show_bug.cgi?id=181818\n         * The worst that happens here is that they get an extra browser\n         * selection when dragging, if this check fails to catch them.\n         */\n        var UA = navigator.userAgent;\n        var isWebKit = /AppleWebKit/.test(UA) && !/Chrome/.test(UA);\n        if(isWebKit) {\n            return function (event) {\n                /* This prevents the web browser from automatically changing to\n                 * the text insertion cursor when the button is pressed. We\n                 * want to control all of the cursor setting manually through\n                 * the 'cursor' event from matplotlib */\n                event.preventDefault()\n                return fig.mouse_event(event, name);\n            };\n        } else {\n            return function (event) {\n                return fig.mouse_event(event, name);\n            };\n        }\n    }\n\n    canvas_div.addEventListener(\n        'mousedown',\n        on_mouse_event_closure('button_press')\n    );\n    canvas_div.addEventListener(\n        'mouseup',\n        on_mouse_event_closure('button_release')\n    );\n    canvas_div.addEventListener(\n        'dblclick',\n        on_mouse_event_closure('dblclick')\n    );\n    // Throttle sequential mouse events to 1 every 20ms.\n    canvas_div.addEventListener(\n        'mousemove',\n        on_mouse_event_closure('motion_notify')\n    );\n\n    canvas_div.addEventListener(\n        'mouseenter',\n        on_mouse_event_closure('figure_enter')\n    );\n    canvas_div.addEventListener(\n        'mouseleave',\n        on_mouse_event_closure('figure_leave')\n    );\n\n    canvas_div.addEventListener('wheel', function (event) {\n        if (event.deltaY < 0) {\n            event.step = 1;\n        } else {\n            event.step = -1;\n        }\n        on_mouse_event_closure('scroll')(event);\n    });\n\n    canvas_div.appendChild(canvas);\n    canvas_div.appendChild(rubberband_canvas);\n\n    this.rubberband_context = rubberband_canvas.getContext('2d');\n    this.rubberband_context.strokeStyle = '#000000';\n\n    this._resize_canvas = function (width, height, forward) {\n        if (forward) {\n            canvas_div.style.width = width + 'px';\n            canvas_div.style.height = height + 'px';\n        }\n    };\n\n    // Disable right mouse context menu.\n    canvas_div.addEventListener('contextmenu', function (_e) {\n        event.preventDefault();\n        return false;\n    });\n\n    function set_focus() {\n        canvas.focus();\n        canvas_div.focus();\n    }\n\n    window.setTimeout(set_focus, 100);\n};\n\nmpl.figure.prototype._init_toolbar = function () {\n    var fig = this;\n\n    var toolbar = document.createElement('div');\n    toolbar.classList = 'mpl-toolbar';\n    this.root.appendChild(toolbar);\n\n    function on_click_closure(name) {\n        return function (_event) {\n            return fig.toolbar_button_onclick(name);\n        };\n    }\n\n    function on_mouseover_closure(tooltip) {\n        return function (event) {\n            if (!event.currentTarget.disabled) {\n                return fig.toolbar_button_onmouseover(tooltip);\n            }\n        };\n    }\n\n    fig.buttons = {};\n    var buttonGroup = document.createElement('div');\n    buttonGroup.classList = 'mpl-button-group';\n    for (var toolbar_ind in mpl.toolbar_items) {\n        var name = mpl.toolbar_items[toolbar_ind][0];\n        var tooltip = mpl.toolbar_items[toolbar_ind][1];\n        var image = mpl.toolbar_items[toolbar_ind][2];\n        var method_name = mpl.toolbar_items[toolbar_ind][3];\n\n        if (!name) {\n            /* Instead of a spacer, we start a new button group. */\n            if (buttonGroup.hasChildNodes()) {\n                toolbar.appendChild(buttonGroup);\n            }\n            buttonGroup = document.createElement('div');\n            buttonGroup.classList = 'mpl-button-group';\n            continue;\n        }\n\n        var button = (fig.buttons[name] = document.createElement('button'));\n        button.classList = 'mpl-widget';\n        button.setAttribute('role', 'button');\n        button.setAttribute('aria-disabled', 'false');\n        button.addEventListener('click', on_click_closure(method_name));\n        button.addEventListener('mouseover', on_mouseover_closure(tooltip));\n\n        var icon_img = document.createElement('img');\n        icon_img.src = '_images/' + image + '.png';\n        icon_img.srcset = '_images/' + image + '_large.png 2x';\n        icon_img.alt = tooltip;\n        button.appendChild(icon_img);\n\n        buttonGroup.appendChild(button);\n    }\n\n    if (buttonGroup.hasChildNodes()) {\n        toolbar.appendChild(buttonGroup);\n    }\n\n    var fmt_picker = document.createElement('select');\n    fmt_picker.classList = 'mpl-widget';\n    toolbar.appendChild(fmt_picker);\n    this.format_dropdown = fmt_picker;\n\n    for (var ind in mpl.extensions) {\n        var fmt = mpl.extensions[ind];\n        var option = document.createElement('option');\n        option.selected = fmt === mpl.default_extension;\n        option.innerHTML = fmt;\n        fmt_picker.appendChild(option);\n    }\n\n    var status_bar = document.createElement('span');\n    status_bar.classList = 'mpl-message';\n    toolbar.appendChild(status_bar);\n    this.message = status_bar;\n};\n\nmpl.figure.prototype.request_resize = function (x_pixels, y_pixels) {\n    // Request matplotlib to resize the figure. Matplotlib will then trigger a resize in the client,\n    // which will in turn request a refresh of the image.\n    this.send_message('resize', { width: x_pixels, height: y_pixels });\n};\n\nmpl.figure.prototype.send_message = function (type, properties) {\n    properties['type'] = type;\n    properties['figure_id'] = this.id;\n    this.ws.send(JSON.stringify(properties));\n};\n\nmpl.figure.prototype.send_draw_message = function () {\n    if (!this.waiting) {\n        this.waiting = true;\n        this.ws.send(JSON.stringify({ type: 'draw', figure_id: this.id }));\n    }\n};\n\nmpl.figure.prototype.handle_save = function (fig, _msg) {\n    var format_dropdown = fig.format_dropdown;\n    var format = format_dropdown.options[format_dropdown.selectedIndex].value;\n    fig.ondownload(fig, format);\n};\n\nmpl.figure.prototype.handle_resize = function (fig, msg) {\n    var size = msg['size'];\n    if (size[0] !== fig.canvas.width || size[1] !== fig.canvas.height) {\n        fig._resize_canvas(size[0], size[1], msg['forward']);\n        fig.send_message('refresh', {});\n    }\n};\n\nmpl.figure.prototype.handle_rubberband = function (fig, msg) {\n    var x0 = msg['x0'] / fig.ratio;\n    var y0 = (fig.canvas.height - msg['y0']) / fig.ratio;\n    var x1 = msg['x1'] / fig.ratio;\n    var y1 = (fig.canvas.height - msg['y1']) / fig.ratio;\n    x0 = Math.floor(x0) + 0.5;\n    y0 = Math.floor(y0) + 0.5;\n    x1 = Math.floor(x1) + 0.5;\n    y1 = Math.floor(y1) + 0.5;\n    var min_x = Math.min(x0, x1);\n    var min_y = Math.min(y0, y1);\n    var width = Math.abs(x1 - x0);\n    var height = Math.abs(y1 - y0);\n\n    fig.rubberband_context.clearRect(\n        0,\n        0,\n        fig.canvas.width / fig.ratio,\n        fig.canvas.height / fig.ratio\n    );\n\n    fig.rubberband_context.strokeRect(min_x, min_y, width, height);\n};\n\nmpl.figure.prototype.handle_figure_label = function (fig, msg) {\n    // Updates the figure title.\n    fig.header.textContent = msg['label'];\n};\n\nmpl.figure.prototype.handle_cursor = function (fig, msg) {\n    fig.canvas_div.style.cursor = msg['cursor'];\n};\n\nmpl.figure.prototype.handle_message = function (fig, msg) {\n    fig.message.textContent = msg['message'];\n};\n\nmpl.figure.prototype.handle_draw = function (fig, _msg) {\n    // Request the server to send over a new figure.\n    fig.send_draw_message();\n};\n\nmpl.figure.prototype.handle_image_mode = function (fig, msg) {\n    fig.image_mode = msg['mode'];\n};\n\nmpl.figure.prototype.handle_history_buttons = function (fig, msg) {\n    for (var key in msg) {\n        if (!(key in fig.buttons)) {\n            continue;\n        }\n        fig.buttons[key].disabled = !msg[key];\n        fig.buttons[key].setAttribute('aria-disabled', !msg[key]);\n    }\n};\n\nmpl.figure.prototype.handle_navigate_mode = function (fig, msg) {\n    if (msg['mode'] === 'PAN') {\n        fig.buttons['Pan'].classList.add('active');\n        fig.buttons['Zoom'].classList.remove('active');\n    } else if (msg['mode'] === 'ZOOM') {\n        fig.buttons['Pan'].classList.remove('active');\n        fig.buttons['Zoom'].classList.add('active');\n    } else {\n        fig.buttons['Pan'].classList.remove('active');\n        fig.buttons['Zoom'].classList.remove('active');\n    }\n};\n\nmpl.figure.prototype.updated_canvas_event = function () {\n    // Called whenever the canvas gets updated.\n    this.send_message('ack', {});\n};\n\n// A function to construct a web socket function for onmessage handling.\n// Called in the figure constructor.\nmpl.figure.prototype._make_on_message_function = function (fig) {\n    return function socket_on_message(evt) {\n        if (evt.data instanceof Blob) {\n            var img = evt.data;\n            if (img.type !== 'image/png') {\n                /* FIXME: We get \"Resource interpreted as Image but\n                 * transferred with MIME type text/plain:\" errors on\n                 * Chrome.  But how to set the MIME type?  It doesn't seem\n                 * to be part of the websocket stream */\n                img.type = 'image/png';\n            }\n\n            /* Free the memory for the previous frames */\n            if (fig.imageObj.src) {\n                (window.URL || window.webkitURL).revokeObjectURL(\n                    fig.imageObj.src\n                );\n            }\n\n            fig.imageObj.src = (window.URL || window.webkitURL).createObjectURL(\n                img\n            );\n            fig.updated_canvas_event();\n            fig.waiting = false;\n            return;\n        } else if (\n            typeof evt.data === 'string' &&\n            evt.data.slice(0, 21) === 'data:image/png;base64'\n        ) {\n            fig.imageObj.src = evt.data;\n            fig.updated_canvas_event();\n            fig.waiting = false;\n            return;\n        }\n\n        var msg = JSON.parse(evt.data);\n        var msg_type = msg['type'];\n\n        // Call the  \"handle_{type}\" callback, which takes\n        // the figure and JSON message as its only arguments.\n        try {\n            var callback = fig['handle_' + msg_type];\n        } catch (e) {\n            console.log(\n                \"No handler for the '\" + msg_type + \"' message type: \",\n                msg\n            );\n            return;\n        }\n\n        if (callback) {\n            try {\n                // console.log(\"Handling '\" + msg_type + \"' message: \", msg);\n                callback(fig, msg);\n            } catch (e) {\n                console.log(\n                    \"Exception inside the 'handler_\" + msg_type + \"' callback:\",\n                    e,\n                    e.stack,\n                    msg\n                );\n            }\n        }\n    };\n};\n\nfunction getModifiers(event) {\n    var mods = [];\n    if (event.ctrlKey) {\n        mods.push('ctrl');\n    }\n    if (event.altKey) {\n        mods.push('alt');\n    }\n    if (event.shiftKey) {\n        mods.push('shift');\n    }\n    if (event.metaKey) {\n        mods.push('meta');\n    }\n    return mods;\n}\n\n/*\n * return a copy of an object with only non-object keys\n * we need this to avoid circular references\n * https://stackoverflow.com/a/24161582/3208463\n */\nfunction simpleKeys(original) {\n    return Object.keys(original).reduce(function (obj, key) {\n        if (typeof original[key] !== 'object') {\n            obj[key] = original[key];\n        }\n        return obj;\n    }, {});\n}\n\nmpl.figure.prototype.mouse_event = function (event, name) {\n    if (name === 'button_press') {\n        this.canvas.focus();\n        this.canvas_div.focus();\n    }\n\n    // from https://stackoverflow.com/q/1114465\n    var boundingRect = this.canvas.getBoundingClientRect();\n    var x = (event.clientX - boundingRect.left) * this.ratio;\n    var y = (event.clientY - boundingRect.top) * this.ratio;\n\n    this.send_message(name, {\n        x: x,\n        y: y,\n        button: event.button,\n        step: event.step,\n        modifiers: getModifiers(event),\n        guiEvent: simpleKeys(event),\n    });\n\n    return false;\n};\n\nmpl.figure.prototype._key_event_extra = function (_event, _name) {\n    // Handle any extra behaviour associated with a key event\n};\n\nmpl.figure.prototype.key_event = function (event, name) {\n    // Prevent repeat events\n    if (name === 'key_press') {\n        if (event.key === this._key) {\n            return;\n        } else {\n            this._key = event.key;\n        }\n    }\n    if (name === 'key_release') {\n        this._key = null;\n    }\n\n    var value = '';\n    if (event.ctrlKey && event.key !== 'Control') {\n        value += 'ctrl+';\n    }\n    else if (event.altKey && event.key !== 'Alt') {\n        value += 'alt+';\n    }\n    else if (event.shiftKey && event.key !== 'Shift') {\n        value += 'shift+';\n    }\n\n    value += 'k' + event.key;\n\n    this._key_event_extra(event, name);\n\n    this.send_message(name, { key: value, guiEvent: simpleKeys(event) });\n    return false;\n};\n\nmpl.figure.prototype.toolbar_button_onclick = function (name) {\n    if (name === 'download') {\n        this.handle_save(this, null);\n    } else {\n        this.send_message('toolbar_button', { name: name });\n    }\n};\n\nmpl.figure.prototype.toolbar_button_onmouseover = function (tooltip) {\n    this.message.textContent = tooltip;\n};\n\n///////////////// REMAINING CONTENT GENERATED BY embed_js.py /////////////////\n// prettier-ignore\nvar _JSXTOOLS_RESIZE_OBSERVER=function(A){var t,i=new WeakMap,n=new WeakMap,a=new WeakMap,r=new WeakMap,o=new Set;function s(e){if(!(this instanceof s))throw new TypeError(\"Constructor requires 'new' operator\");i.set(this,e)}function h(){throw new TypeError(\"Function is not a constructor\")}function c(e,t,i,n){e=0 in arguments?Number(arguments[0]):0,t=1 in arguments?Number(arguments[1]):0,i=2 in arguments?Number(arguments[2]):0,n=3 in arguments?Number(arguments[3]):0,this.right=(this.x=this.left=e)+(this.width=i),this.bottom=(this.y=this.top=t)+(this.height=n),Object.freeze(this)}function d(){t=requestAnimationFrame(d);var s=new WeakMap,p=new Set;o.forEach((function(t){r.get(t).forEach((function(i){var r=t instanceof window.SVGElement,o=a.get(t),d=r?0:parseFloat(o.paddingTop),f=r?0:parseFloat(o.paddingRight),l=r?0:parseFloat(o.paddingBottom),u=r?0:parseFloat(o.paddingLeft),g=r?0:parseFloat(o.borderTopWidth),m=r?0:parseFloat(o.borderRightWidth),w=r?0:parseFloat(o.borderBottomWidth),b=u+f,F=d+l,v=(r?0:parseFloat(o.borderLeftWidth))+m,W=g+w,y=r?0:t.offsetHeight-W-t.clientHeight,E=r?0:t.offsetWidth-v-t.clientWidth,R=b+v,z=F+W,M=r?t.width:parseFloat(o.width)-R-E,O=r?t.height:parseFloat(o.height)-z-y;if(n.has(t)){var k=n.get(t);if(k[0]===M&&k[1]===O)return}n.set(t,[M,O]);var S=Object.create(h.prototype);S.target=t,S.contentRect=new c(u,d,M,O),s.has(i)||(s.set(i,[]),p.add(i)),s.get(i).push(S)}))})),p.forEach((function(e){i.get(e).call(e,s.get(e),e)}))}return s.prototype.observe=function(i){if(i instanceof window.Element){r.has(i)||(r.set(i,new Set),o.add(i),a.set(i,window.getComputedStyle(i)));var n=r.get(i);n.has(this)||n.add(this),cancelAnimationFrame(t),t=requestAnimationFrame(d)}},s.prototype.unobserve=function(i){if(i instanceof window.Element&&r.has(i)){var n=r.get(i);n.has(this)&&(n.delete(this),n.size||(r.delete(i),o.delete(i))),n.size||r.delete(i),o.size||cancelAnimationFrame(t)}},A.DOMRectReadOnly=c,A.ResizeObserver=s,A.ResizeObserverEntry=h,A}; // eslint-disable-line\nmpl.toolbar_items = [[\"Home\", \"Reset original view\", \"fa fa-home\", \"home\"], [\"Back\", \"Back to previous view\", \"fa fa-arrow-left\", \"back\"], [\"Forward\", \"Forward to next view\", \"fa fa-arrow-right\", \"forward\"], [\"\", \"\", \"\", \"\"], [\"Pan\", \"Left button pans, Right button zooms\\nx/y fixes axis, CTRL fixes aspect\", \"fa fa-arrows\", \"pan\"], [\"Zoom\", \"Zoom to rectangle\\nx/y fixes axis\", \"fa fa-square-o\", \"zoom\"], [\"\", \"\", \"\", \"\"], [\"Download\", \"Download plot\", \"fa fa-floppy-o\", \"download\"]];\n\nmpl.extensions = [\"eps\", \"jpeg\", \"pgf\", \"pdf\", \"png\", \"ps\", \"raw\", \"svg\", \"tif\", \"webp\"];\n\nmpl.default_extension = \"png\";/* global mpl */\n\nvar comm_websocket_adapter = function (comm) {\n    // Create a \"websocket\"-like object which calls the given IPython comm\n    // object with the appropriate methods. Currently this is a non binary\n    // socket, so there is still some room for performance tuning.\n    var ws = {};\n\n    ws.binaryType = comm.kernel.ws.binaryType;\n    ws.readyState = comm.kernel.ws.readyState;\n    function updateReadyState(_event) {\n        if (comm.kernel.ws) {\n            ws.readyState = comm.kernel.ws.readyState;\n        } else {\n            ws.readyState = 3; // Closed state.\n        }\n    }\n    comm.kernel.ws.addEventListener('open', updateReadyState);\n    comm.kernel.ws.addEventListener('close', updateReadyState);\n    comm.kernel.ws.addEventListener('error', updateReadyState);\n\n    ws.close = function () {\n        comm.close();\n    };\n    ws.send = function (m) {\n        //console.log('sending', m);\n        comm.send(m);\n    };\n    // Register the callback with on_msg.\n    comm.on_msg(function (msg) {\n        //console.log('receiving', msg['content']['data'], msg);\n        var data = msg['content']['data'];\n        if (data['blob'] !== undefined) {\n            data = {\n                data: new Blob(msg['buffers'], { type: data['blob'] }),\n            };\n        }\n        // Pass the mpl event to the overridden (by mpl) onmessage function.\n        ws.onmessage(data);\n    });\n    return ws;\n};\n\nmpl.mpl_figure_comm = function (comm, msg) {\n    // This is the function which gets called when the mpl process\n    // starts-up an IPython Comm through the \"matplotlib\" channel.\n\n    var id = msg.content.data.id;\n    // Get hold of the div created by the display call when the Comm\n    // socket was opened in Python.\n    var element = document.getElementById(id);\n    var ws_proxy = comm_websocket_adapter(comm);\n\n    function ondownload(figure, _format) {\n        window.open(figure.canvas.toDataURL());\n    }\n\n    var fig = new mpl.figure(id, ws_proxy, ondownload, element);\n\n    // Call onopen now - mpl needs it, as it is assuming we've passed it a real\n    // web socket which is closed, not our websocket->open comm proxy.\n    ws_proxy.onopen();\n\n    fig.parent_element = element;\n    fig.cell_info = mpl.find_output_cell(\"<div id='\" + id + \"'></div>\");\n    if (!fig.cell_info) {\n        console.error('Failed to find cell for figure', id, fig);\n        return;\n    }\n    fig.cell_info[0].output_area.element.on(\n        'cleared',\n        { fig: fig },\n        fig._remove_fig_handler\n    );\n};\n\nmpl.figure.prototype.handle_close = function (fig, msg) {\n    var width = fig.canvas.width / fig.ratio;\n    fig.cell_info[0].output_area.element.off(\n        'cleared',\n        fig._remove_fig_handler\n    );\n    fig.resizeObserverInstance.unobserve(fig.canvas_div);\n\n    // Update the output cell to use the data from the current canvas.\n    fig.push_to_output();\n    var dataURL = fig.canvas.toDataURL();\n    // Re-enable the keyboard manager in IPython - without this line, in FF,\n    // the notebook keyboard shortcuts fail.\n    IPython.keyboard_manager.enable();\n    fig.parent_element.innerHTML =\n        '<img src=\"' + dataURL + '\" width=\"' + width + '\">';\n    fig.close_ws(fig, msg);\n};\n\nmpl.figure.prototype.close_ws = function (fig, msg) {\n    fig.send_message('closing', msg);\n    // fig.ws.close()\n};\n\nmpl.figure.prototype.push_to_output = function (_remove_interactive) {\n    // Turn the data on the canvas into data in the output cell.\n    var width = this.canvas.width / this.ratio;\n    var dataURL = this.canvas.toDataURL();\n    this.cell_info[1]['text/html'] =\n        '<img src=\"' + dataURL + '\" width=\"' + width + '\">';\n};\n\nmpl.figure.prototype.updated_canvas_event = function () {\n    // Tell IPython that the notebook contents must change.\n    IPython.notebook.set_dirty(true);\n    this.send_message('ack', {});\n    var fig = this;\n    // Wait a second, then push the new image to the DOM so\n    // that it is saved nicely (might be nice to debounce this).\n    setTimeout(function () {\n        fig.push_to_output();\n    }, 1000);\n};\n\nmpl.figure.prototype._init_toolbar = function () {\n    var fig = this;\n\n    var toolbar = document.createElement('div');\n    toolbar.classList = 'btn-toolbar';\n    this.root.appendChild(toolbar);\n\n    function on_click_closure(name) {\n        return function (_event) {\n            return fig.toolbar_button_onclick(name);\n        };\n    }\n\n    function on_mouseover_closure(tooltip) {\n        return function (event) {\n            if (!event.currentTarget.disabled) {\n                return fig.toolbar_button_onmouseover(tooltip);\n            }\n        };\n    }\n\n    fig.buttons = {};\n    var buttonGroup = document.createElement('div');\n    buttonGroup.classList = 'btn-group';\n    var button;\n    for (var toolbar_ind in mpl.toolbar_items) {\n        var name = mpl.toolbar_items[toolbar_ind][0];\n        var tooltip = mpl.toolbar_items[toolbar_ind][1];\n        var image = mpl.toolbar_items[toolbar_ind][2];\n        var method_name = mpl.toolbar_items[toolbar_ind][3];\n\n        if (!name) {\n            /* Instead of a spacer, we start a new button group. */\n            if (buttonGroup.hasChildNodes()) {\n                toolbar.appendChild(buttonGroup);\n            }\n            buttonGroup = document.createElement('div');\n            buttonGroup.classList = 'btn-group';\n            continue;\n        }\n\n        button = fig.buttons[name] = document.createElement('button');\n        button.classList = 'btn btn-default';\n        button.href = '#';\n        button.title = name;\n        button.innerHTML = '<i class=\"fa ' + image + ' fa-lg\"></i>';\n        button.addEventListener('click', on_click_closure(method_name));\n        button.addEventListener('mouseover', on_mouseover_closure(tooltip));\n        buttonGroup.appendChild(button);\n    }\n\n    if (buttonGroup.hasChildNodes()) {\n        toolbar.appendChild(buttonGroup);\n    }\n\n    // Add the status bar.\n    var status_bar = document.createElement('span');\n    status_bar.classList = 'mpl-message pull-right';\n    toolbar.appendChild(status_bar);\n    this.message = status_bar;\n\n    // Add the close button to the window.\n    var buttongrp = document.createElement('div');\n    buttongrp.classList = 'btn-group inline pull-right';\n    button = document.createElement('button');\n    button.classList = 'btn btn-mini btn-primary';\n    button.href = '#';\n    button.title = 'Stop Interaction';\n    button.innerHTML = '<i class=\"fa fa-power-off icon-remove icon-large\"></i>';\n    button.addEventListener('click', function (_evt) {\n        fig.handle_close(fig, {});\n    });\n    button.addEventListener(\n        'mouseover',\n        on_mouseover_closure('Stop Interaction')\n    );\n    buttongrp.appendChild(button);\n    var titlebar = this.root.querySelector('.ui-dialog-titlebar');\n    titlebar.insertBefore(buttongrp, titlebar.firstChild);\n};\n\nmpl.figure.prototype._remove_fig_handler = function (event) {\n    var fig = event.data.fig;\n    if (event.target !== this) {\n        // Ignore bubbled events from children.\n        return;\n    }\n    fig.close_ws(fig, {});\n};\n\nmpl.figure.prototype._root_extra_style = function (el) {\n    el.style.boxSizing = 'content-box'; // override notebook setting of border-box.\n};\n\nmpl.figure.prototype._canvas_extra_style = function (el) {\n    // this is important to make the div 'focusable\n    el.setAttribute('tabindex', 0);\n    // reach out to IPython and tell the keyboard manager to turn it's self\n    // off when our div gets focus\n\n    // location in version 3\n    if (IPython.notebook.keyboard_manager) {\n        IPython.notebook.keyboard_manager.register_events(el);\n    } else {\n        // location in version 2\n        IPython.keyboard_manager.register_events(el);\n    }\n};\n\nmpl.figure.prototype._key_event_extra = function (event, _name) {\n    // Check for shift+enter\n    if (event.shiftKey && event.which === 13) {\n        this.canvas_div.blur();\n        // select the cell after this one\n        var index = IPython.notebook.find_cell_index(this.cell_info[0]);\n        IPython.notebook.select(index + 1);\n    }\n};\n\nmpl.figure.prototype.handle_save = function (fig, _msg) {\n    fig.ondownload(fig, null);\n};\n\nmpl.find_output_cell = function (html_output) {\n    // Return the cell and output element which can be found *uniquely* in the notebook.\n    // Note - this is a bit hacky, but it is done because the \"notebook_saving.Notebook\"\n    // IPython event is triggered only after the cells have been serialised, which for\n    // our purposes (turning an active figure into a static one), is too late.\n    var cells = IPython.notebook.get_cells();\n    var ncells = cells.length;\n    for (var i = 0; i < ncells; i++) {\n        var cell = cells[i];\n        if (cell.cell_type === 'code') {\n            for (var j = 0; j < cell.output_area.outputs.length; j++) {\n                var data = cell.output_area.outputs[j];\n                if (data.data) {\n                    // IPython >= 3 moved mimebundle to data attribute of output\n                    data = data.data;\n                }\n                if (data['text/html'] === html_output) {\n                    return [cell, data, j];\n                }\n            }\n        }\n    }\n};\n\n// Register the function which deals with the matplotlib target/channel.\n// The kernel may be null if the page has been refreshed.\nif (IPython.notebook.kernel !== null) {\n    IPython.notebook.kernel.comm_manager.register_target(\n        'matplotlib',\n        mpl.mpl_figure_comm\n    );\n}\n",
      "text/plain": [
       "<IPython.core.display.Javascript object>"
      ]
     },
     "metadata": {},
     "output_type": "display_data"
    },
    {
     "data": {
      "text/html": [
       "<div id='1dfef83b-ea57-4636-848e-6084f4057ea8'></div>"
      ],
      "text/plain": [
       "<IPython.core.display.HTML object>"
      ]
     },
     "metadata": {},
     "output_type": "display_data"
    }
   ],
   "source": [
    "plt.hist(interval, bins=20)\n",
    "plt.show()"
   ]
  },
  {
   "attachments": {},
   "cell_type": "markdown",
   "metadata": {},
   "source": [
    "Mettez en évidence le comportement de cette distribution lorsque `n` augmente."
   ]
  },
  {
   "cell_type": "code",
   "execution_count": null,
   "metadata": {},
   "outputs": [],
   "source": [
    "# Votre code ici\n",
    "values = [10**i for i in range(6)]\n",
    "for val in values:\n",
    "\n",
    "    plt.hist(np.random.rand(val), bins=np.linspace(0, 1, 20))\n",
    "    plt.show()"
   ]
  },
  {
   "attachments": {},
   "cell_type": "markdown",
   "metadata": {},
   "source": [
    "Générez `m` échantillons de `n` valeurs tirées aléatoirement dans une distribution uniforme entre 0 et 1, et calculez la moyenne et la variance de chaque échantillon.\n",
    "\n",
    "Affichez l'histogramme des valeurs de moyenne et de variance."
   ]
  },
  {
   "cell_type": "code",
   "execution_count": null,
   "metadata": {},
   "outputs": [],
   "source": [
    "# Votre code ici\n"
   ]
  },
  {
   "attachments": {},
   "cell_type": "markdown",
   "metadata": {},
   "source": [
    "Mettez en évidence le comportement de la distribution de la moyenne et de la variance lorsque `m` augmente pour une valeur donnée de `n`."
   ]
  },
  {
   "cell_type": "code",
   "execution_count": null,
   "metadata": {},
   "outputs": [],
   "source": [
    "# Votre code ici\n"
   ]
  },
  {
   "attachments": {},
   "cell_type": "markdown",
   "metadata": {},
   "source": [
    "Mettez en évidence le comportement de la distribution de la moyenne et de la variance lorsque `n` augmente pour une grande valeur de `m`."
   ]
  },
  {
   "cell_type": "code",
   "execution_count": null,
   "metadata": {},
   "outputs": [],
   "source": [
    "# Votre code ici\n"
   ]
  },
  {
   "attachments": {},
   "cell_type": "markdown",
   "metadata": {},
   "source": [
    "Créez et testez une fonction exploitant utilisant `numpy.ramdom.rand()`, se comportant de façon identique, mais qui renvoie des nombres aléatoires uniformément distribués entre $a$ et $b$, deux réels passés en argument."
   ]
  },
  {
   "cell_type": "code",
   "execution_count": null,
   "metadata": {},
   "outputs": [],
   "source": [
    "def uniform(a,b,dim):\n",
    "    '''\n",
    "    Cette fonction renvoie des nombres aléatoires uniformément répartis entre a et b\n",
    "    \n",
    "    dim est un tuple donnant la taille de chacune des dimensions du tableau retourné\n",
    "    '''\n",
    "    # Insérez votre code ici\n",
    "    return "
   ]
  },
  {
   "attachments": {},
   "cell_type": "markdown",
   "metadata": {},
   "source": [
    "Voici quelques appels pour lesquels la fonction devra fonctionner"
   ]
  },
  {
   "cell_type": "code",
   "execution_count": null,
   "metadata": {},
   "outputs": [],
   "source": [
    "print(uniform(5,7,20))\n",
    "print(uniform(3,5,(4,3)))\n",
    "print(uniform(3,5,(2,3,2)))\n"
   ]
  },
  {
   "attachments": {},
   "cell_type": "markdown",
   "metadata": {},
   "source": [
    "## Etude de la distribution uniforme entre $a$ et $b$\n",
    "\n",
    "Vérifiez via le tirage d'échantillons de taille croissante que moyenne et variance tendent vers les valeurs théoriques."
   ]
  },
  {
   "cell_type": "code",
   "execution_count": null,
   "metadata": {},
   "outputs": [],
   "source": [
    "# Votre code ici"
   ]
  },
  {
   "attachments": {},
   "cell_type": "markdown",
   "metadata": {},
   "source": [
    "## Génération de variable aléatoire de Bernoulli\n",
    "\n",
    "On rappelle qu'une variable aléatoire de Bernoulli de paramètre $p$ prend ses valeurs dans $\\{0,1\\}$ avec $P(X = 1)=p$.\n",
    "\n",
    "Pour générer une telle variable, on va tirer une valeur dans une distribution uniforme entre 0 et 1, et renvoyer 1 si cette valeur est inférieure ou égale à $p$ et 0 sinon.\n",
    "\n",
    "Ecrire une fonction permettant de générer un tableau de valeur tirée dans une loi de Bernoulli de paramètre $p$ et dont la taille de chaque dimension est indiquée dans un tuple passé en argument."
   ]
  },
  {
   "cell_type": "code",
   "execution_count": null,
   "metadata": {},
   "outputs": [],
   "source": [
    "def bernoulli(p, dim) :\n",
    "    # Votre code ici\n",
    "    return "
   ]
  },
  {
   "attachments": {},
   "cell_type": "markdown",
   "metadata": {},
   "source": [
    "Vérifiez qu'avec un grand nombre de tirages, la moyenne et la variance des valeurs tirées tendent vers les valeurs théoriques."
   ]
  },
  {
   "cell_type": "code",
   "execution_count": null,
   "metadata": {},
   "outputs": [],
   "source": [
    "# Votre code ici"
   ]
  },
  {
   "attachments": {},
   "cell_type": "markdown",
   "metadata": {},
   "source": [
    "Générer `m` échantillons de `n` tirages dans une loi de Bernoulli de paramètre $p$ et calculez la moyenne et la variance de chaque échantillon.\n",
    "\n",
    "Affichez un histogramme des moyennes et des variances"
   ]
  },
  {
   "cell_type": "code",
   "execution_count": null,
   "metadata": {},
   "outputs": [],
   "source": [
    "# Votre code ici"
   ]
  },
  {
   "attachments": {},
   "cell_type": "markdown",
   "metadata": {},
   "source": [
    "## Génération d'une variable aléatoire suivant une loi binomiale\n",
    "\n",
    "Nous rappelons qu'une variable aléatoire suivant une loi binomiale de paramètres $n$ et $p$ prend ses valeurs dans $\\{0, 1,\\dots,n\\}$ avec une probabilité $P(X=k) = C_n^k p^k (1-p)^{n-k}$.\n",
    "\n",
    "Pour générer de telles valeurs, on somme les éléments d'un échantillon de $n$ valeurs aléatoires tirées selon une loi de Bernoulli de paramètre $p$.\n",
    "\n",
    "Ecrire une fonction permettant de générer $m$ échantillons de $l$ valeurs aléatoires tirées aléatoirement selon une loi binomiale de paramètres $n$ et $p$."
   ]
  },
  {
   "cell_type": "code",
   "execution_count": null,
   "metadata": {},
   "outputs": [],
   "source": [
    "def binomial(m,l,n,p):\n",
    "    # Votre code ici\n",
    "    return"
   ]
  },
  {
   "attachments": {},
   "cell_type": "markdown",
   "metadata": {},
   "source": [
    "Comme précédemment, vérifiez que la moyenne et la variance $k$ variables aléatoires binomiales de paramètres $n$ et $p$ tendent vers les valeurs théoriques."
   ]
  },
  {
   "cell_type": "code",
   "execution_count": null,
   "metadata": {},
   "outputs": [],
   "source": [
    "# Votre code ici"
   ]
  },
  {
   "attachments": {},
   "cell_type": "markdown",
   "metadata": {},
   "source": [
    "Illustrez via des histogrammes, la distribution de la moyenne et de la variance de $m$ échantillons de $l$ variables aléatoires binomiales."
   ]
  },
  {
   "cell_type": "code",
   "execution_count": null,
   "metadata": {},
   "outputs": [],
   "source": [
    "# Votre code ici"
   ]
  },
  {
   "attachments": {},
   "cell_type": "markdown",
   "metadata": {},
   "source": [
    "# Mélange de lois\n",
    "\n",
    "La fonction numpy.random.randn() génère des données tirées aléatoirement selon une loi normale de moyenne 0 et de variance 1.\n",
    "\n",
    "Soit $X$ une variable aléatoire scalaire réelle. Toute fonction de $X$ est une variable aléatoire. C'est en particulier le cas de $Y = aX+b$.\n",
    "\n",
    "Dans ce cas, on a $E(Y)=a.E(X)+b$ et $V(Y)=a^2.V(X)$.\n",
    "\n",
    "Exploitez les propriétés précédentes pour générez des données tirées aléatoirement dans une loi normale de paramètres $m$ et $\\sigma$, et visualisez l'histogramme de ces données."
   ]
  },
  {
   "cell_type": "code",
   "execution_count": null,
   "metadata": {},
   "outputs": [],
   "source": [
    "# Votre code ici"
   ]
  },
  {
   "attachments": {},
   "cell_type": "markdown",
   "metadata": {},
   "source": [
    "Générez des $N_1$ données issues d'une loi normale de paramètre $m_1$ et $\\sigma_1^2$ et $N_2$ données issues d'une loi de paramètres $m_2$ et $\\sigma_2^2$ et visualisez l'histogramme du jeu de données constitué de l'union des deux jeux précédent.\n",
    "\n",
    "Mettez en évidence les différents phénomènes lorsque :\n",
    "- $N_1$ et $N_2$ sont du même ordre ou d'ordre de grandeur différent\n",
    "- $m_1$ et $m_2$ sont proches ou éloignés\n",
    "- pour différentes valeurs de $\\sigma_1$ et $\\sigma_2$"
   ]
  },
  {
   "cell_type": "code",
   "execution_count": null,
   "metadata": {},
   "outputs": [],
   "source": [
    "# Votre code ici"
   ]
  },
  {
   "attachments": {},
   "cell_type": "markdown",
   "metadata": {},
   "source": [
    "# Variable aléatoire vectorielle -- vecteur aléatoire\n",
    "\n",
    "Une variable aléatoire vectorielle $X(\\omega)$ de dimension $n$ est un vecteur aléatoire appartenant à $\\mathbb{R}^n$ telle que chacune de ses composantes soit une variable aléatoire scalaire.\n",
    "\n",
    "$$\n",
    "X(\\omega)=\\left(\n",
    "\\begin{array}{c}\n",
    "X_1(\\omega) \\\\ X_2(\\omega) \\\\ \\vdots \\\\ X_n(\\omega) \n",
    "\\end{array}\n",
    "\\right)\n",
    "$$"
   ]
  },
  {
   "attachments": {},
   "cell_type": "markdown",
   "metadata": {},
   "source": [
    "On définit la covariance entre deux variables aléatoires scalaires $X$ et $Y$ par la quantité suivante.\n",
    "\n",
    "$$\\gamma_{X,Y}=Cov(X,Y)=E[(X-E(X))(Y-E(Y))]$$\n",
    "\n",
    "On définit $c$ le coefficient de corrélation entre $X$ et $Y$ par la formule suivante :\n",
    "\n",
    "$$c = \\frac{\\gamma_{X,Y}}{\\sigma_X.\\sigma_Y}$$\n",
    "\n",
    "Ce coefficient est compris entre -1 et 1.\n",
    "\n",
    "La valeur absolue de $c$ dont la force du lien entre $X$ et $Y$. Ainsi, lorsque $|c|=1$, $X$ et $Y$ sont presque sûrement proportionnelles. \n",
    "\n",
    "Le signe la direction des tendances respectives entre $X$ et $Y$. Ainsi, lorsque $c>0$, si $X$ augmente alors $Y$ a également tendance à croître, alors qu'il aurait tendance à décroître si $c<0$."
   ]
  },
  {
   "attachments": {},
   "cell_type": "markdown",
   "metadata": {},
   "source": [
    "Générez un échantillon $X$ de $n$ valeurs tirées selon une loi normale de paramètres $m_1$ et $\\sigma_1$ ainsi qu'un autre échantillon $Y$ contenant également $n$ valeurs tirées aléatoirement selon une loi normale de pramètre $m_2$ et $\\sigma_2$.\n",
    "\n",
    "- Visualisez les données via un nuage de points.\n",
    "- Calculez le coefficient de corrélation.\n"
   ]
  },
  {
   "cell_type": "code",
   "execution_count": null,
   "metadata": {},
   "outputs": [],
   "source": [
    "# Votre code ici"
   ]
  },
  {
   "attachments": {},
   "cell_type": "markdown",
   "metadata": {},
   "source": [
    "Générez un nouvel échantillon à partir de l'échantillon précédent. Dans ce nouvel échantillon, $X'$ vaut $\\cos \\theta . X - \\sin \\theta . Y + b_0 $ et $Y'$ vaut $\\sin \\theta X + \\cos \\theta Y+b_1$.\n",
    "\n",
    "- Visualisez les nouvelles données. \n",
    "- Calculez le coeficient de corrélation."
   ]
  },
  {
   "cell_type": "code",
   "execution_count": null,
   "metadata": {},
   "outputs": [],
   "source": [
    "# Votre code ici"
   ]
  },
  {
   "attachments": {},
   "cell_type": "markdown",
   "metadata": {},
   "source": [
    "Générez maintenant deux autres échantillons $X''$ et $Y''$ chacun de taille $n''$ de la façon suivante. \n",
    "\n",
    "$X''$ est issu d'un tirage aléatoire dans une loi normale de paramètre $m''$ et $\\sigma''$.\n",
    "\n",
    "Les valeurs de $Y''$ sont produites par $Y'' = a.(X''+b_X) + e$. Pour chaque valeur, $b_x$ et $e$ sont tirés aléatoirement dans des lois normales centrées de variances respectives $\\sigma_{b_X}^2$ et $\\sigma_e^2$.\n",
    "\n",
    "Visualisez $(X,Y)$, $(X',Y')$ et $(X'',Y'')$ sur le même graphique."
   ]
  },
  {
   "cell_type": "code",
   "execution_count": null,
   "metadata": {},
   "outputs": [],
   "source": [
    "# Votre code ici"
   ]
  },
  {
   "attachments": {},
   "cell_type": "markdown",
   "metadata": {},
   "source": [
    "Importez les $N$ premiers éléments de chaque échantillon générés précédemment dans un dataframe pandas de sorte que $X$, $Y$, $X'$, $Y'$, $X''$ et $Y''$ correspondent chacun à une colonne distincte.\n",
    "\n",
    "Afficher la matrice de corrélation.\n",
    "\n",
    "Visualisez la matrice des nuages de points sur l'ensemble des couples de dimension."
   ]
  },
  {
   "cell_type": "code",
   "execution_count": null,
   "metadata": {},
   "outputs": [],
   "source": [
    "# Votre code ici"
   ]
  },
  {
   "attachments": {},
   "cell_type": "markdown",
   "metadata": {},
   "source": [
    "Importez maintenant la totalité des éléments des trois échantillons $(X,Y)$, $(X',Y')$ et $(X'',Y'')$ dans un dataframe pandas disposant de 3 attributs $x$, $y$  et $C$ tels que $x$ reçoit les valeurs de $X$, $X'$ et $X''$, $y$ reçoit les valeurs de $Y$, $Y'$ et $Y''$. Enfin, $C$ devra valoir 'A' pour les données provenant de $(X,Y)$, 'B' pour les données provenant de $(X',Y')$ et finalement 'X' pour celles provenant de $(X'',Y'')$.\n",
    "\n",
    "Affichez distinctement pour les trois classes 'A', 'B' et 'X' :\n",
    "- les histogrammes de $x$ et de $y$\n",
    "- les distributions de $x$ et de $y$\n",
    "- des boîtes à moustache de $x$ et de $y$\n",
    "- les diagrammes en violon de $x$ et de $y$"
   ]
  },
  {
   "cell_type": "code",
   "execution_count": null,
   "metadata": {},
   "outputs": [],
   "source": [
    "# Votre code ici"
   ]
  }
 ],
 "metadata": {
  "kernelspec": {
   "display_name": "Python 3 (ipykernel)",
   "language": "python",
   "name": "python3"
  }
 },
 "nbformat": 4,
 "nbformat_minor": 2
}
