{
 "cells": [
  {
   "cell_type": "markdown",
   "metadata": {},
   "source": [
    "# Probabilités\n",
    "\n",
    "## Espace de probabilité\n",
    "\n",
    "Une expérience aléatoire est une expérience qui, lorsqu'elle est répétée, n'a aucune raison de produire un résultat identique.\n",
    "\n",
    "On appelle \"épreuve\" la réalisation d'une expérience aléatoire\n",
    "\n",
    "On appelle \"événement élémentaire\" le résultat d'une expérience aléatoire.\n",
    "\n",
    "On appelle ensemble des possibles, noté $\\Omega$, l'ensemble des événements élémentaires lié à une expérience aléatoire.\n",
    "\n",
    "$$\\Omega=\\{\\omega_0, \\omega_1,\\dots,\\omega_n\\}$$\n",
    "\n",
    "On appelle événement un sous-ensemble de l'ensemble des possibles.\n",
    "\n",
    "$$A \\subseteq \\Omega$$\n",
    "\n",
    "L'événement complémentaire $\\overline{A}$ est celui qui se réalise si et seulement si $A$ ne se réalise pas.\n",
    "\n",
    "L'événement $A \\cup B$ est l'événement qui se réalise si $A$ se réalise ou si $B$ se réalise. $A \\cup B$ est l'union des événements élémentaires composant $A$ et des événements élémentaires composant $B$.\n",
    "\n",
    "L'événement $A \\cap B$ est l'événement qui se réalise si et seulement si $A$ se réalise et $B$ se réalise. $A \\cap B$ est l'intersection des événements élémentaires composant $A$ et des événements élémentaires composant $B$.\n",
    "\n",
    "$\\mathcal{F}$ est l'ensemble de tous les événements possibles (pas seulement les événements élémentaires).\n",
    "\n",
    "A chaque événement $A$, on associe une mesure de probabilité $P(A)$ telle que :\n",
    "- $0 \\leq P(A) \\leq 1$\n",
    "- $P(\\emptyset) = 0$\n",
    "- $P(\\Omega)=1$\n",
    "- si $A \\cap B = \\emptyset$, alors $P(A \\cup B) = P(A) + P(B)$\n",
    "\n",
    "$\\Omega$ est l'événement certain (P(\\Omega)=1)\n",
    "\n",
    "Des propriétés suivantes, on peut déduire d'autres propriétés :\n",
    "- $P(\\overline{A}) = 1 - P(A)$\n",
    "- $P( A \\cup B) = P(A) + P(B) - P(A \\cap B)$\n",
    "\n",
    "## Probabilités conditionnelles\n",
    "\n",
    "Soient deux événements $A$ et $B$, on note $P(A|B)$ la probabilité conditionnelle de l'événement $A$ conditionnellement à $B$. Il s'agit de la probabilité que $A$ se réalise quand $B$ se reéalise.\n",
    "\n",
    "$$P(A|B) = \\frac{P(A \\cap B)}{P(B)}$$\n",
    "\n",
    "$$P(A \\cap B) = P(A|B).P(B) = P(B|A)P(A)$$\n",
    "\n",
    "### Théorème de Bayes\n",
    "\n",
    "$$P(A|B)=\\frac{P(B|A).P(A)}{P(B)}$$\n",
    "\n",
    "### Indépendance\n",
    "\n",
    "L'événement $A$ est indépendant de l'événement $B$, si et seulement si le fait que $B$ se réalisse n'a aucune influence sur la probabilité de $A$.\n",
    "\n",
    "$$A \\textrm{ est indépendant de }B \\Leftrightarrow P(A|B) = P(A)$$\n",
    "\n",
    "$$P(A|B) = P(A)$$\n",
    "$$P(A|B).P(B) = P(A).P(B)$$\n",
    "$$P(A \\cap B) = P(A).P(B)$$\n",
    "$$P(B|A).P(A) = P(A).P(B)$$\n",
    "$$P(B|A) = P(B)$$\n",
    "\n",
    "### Propriétés des probabilités conditionnelles\n",
    "\n",
    "1 - Soient deux événement $A$ et $B$ disjoints ($A \\cap B = \\emptyset$) et $C$ un évènement quelconque. On montre que $P(A \\cup B | C) = P(A|C) + P(B|C)$\n",
    "\n",
    "2 - Soient deux événements $A$ et $B$, $P(B) = P(B|A).P(A) + P(B|\\overline{A}).P(\\overline{A})$\n",
    "\n",
    "3 - Plus généralement, soit une partition de $A$, $A = \\bigcup_i A_i$ et $\\forall i,j, i \\neq j, A_i \\cap A_j = \\emptyset$, $P(B) = \\sum_i P(B|A_i)P(A_i)$"
   ]
  },
  {
   "cell_type": "markdown",
   "metadata": {},
   "source": [
    "# Variable aléatoire\n",
    "\n",
    "## Définition\n",
    "\n",
    "Le résultat d'une expérience aléatoire est un événement élémentaire \\omega$ appartenant à l'ensemble des possibles.\n",
    "\n",
    "$$\\omega \\in \\Omega$$\n",
    "\n",
    "Une variable aléatoire est une fonction qui associe une valeur numérique à un événement aléatoire.\n",
    "\n",
    "$$\n",
    "\\begin{array}{rcl}\n",
    "X & : & \\Omega \\rightarrow \\mathbb{C}^n \\\\\n",
    "& & \\omega \\mapsto X(\\omega) \\in \\mathbb{C}^n \n",
    "\\end{array}\n",
    "$$\n",
    "\n",
    "Si $n=1$, on dit que $X$ est scalaire. Si $X \\in \\mathbb{R}^n$, on dit que $X$ est réelle.\n",
    "\n",
    "Restregnons-nous dans un premier temps aux variables aléatoires réelles pour simplifier\n",
    "\n",
    "$X$ doit être mesurable, c'est-à-dire que, pour tout $x \\in \\mathbb{R}^n$, l'événement $A(x) = \\{\\omega \\in \\Omega, X_1(\\omega) \\leq x_1, \\dots X_n(\\omega) \\leq x_n \\}$ et qu'on peut lui associer une mesure de probabilité $P(A(x))$.\n",
    "\n",
    "Dans le cas scalaire, pour tout réel $x$, $A(x)=\\{\\omega \\in \\Omega, X(\\omega) \\leq x \\}$ doit être défini et on peut lui associer une mesure de probabilité.\n",
    "\n",
    "## Fonction de répartition d'une variable aléatoire scalaire réelle \n",
    "\n",
    "La fonction de répartition d'une variable aléatoire scalaire réelle $X$, notée $F_X(x)$ est une fonction réelle du réel $x$, et est définie par $P(A(x)) = P(X(\\omega)\\leq x)$.\n",
    "\n",
    "$F_X$ est croissante.\n",
    "\n",
    "$\\lim_{x \\rightarrow +\\infty}F_X = 1$\n",
    "\n",
    "$\\lim_{x \\rightarrow -\\infty}F_X = 0$\n",
    "\n",
    "## Variables aléatoires discrètes\n",
    "\n",
    "On distingue les variables aléatoires discrètes des variables aléatoires continues. Une variable aléatoire discrète ne prend ses valeurs que dans un ensemble fini de valeurs $x_i$ avec des probabilités $p_i = P(X(\\omega)=x_i)$\n",
    "\n",
    "$$\\sum_i P(X(\\omega)=x_i) = \\sum_i p_i = 1$$\n",
    "\n",
    "$$F_X(x) = P(X(\\omega)\\leq x) = \\sum_{X(\\omega) \\leq x_i} p_i$$\n",
    "\n",
    "$F_X(x)$ est constante par morceau, avec des sauts d'amplitude $p_i$ aux abscisses $x_i$.\n",
    "\n",
    "## Variables aléatoires continues\n",
    "\n",
    "La fonction de répartition d'une variable aléatoire scalaire réelle continue est continue et dérivable sur $\\mathbb{R}$. Sa dérivée, appelée densité de probabilité est notée $p_X(x)$.\n",
    "    \n",
    "$$p_X(x) = \\frac{dF_X(x)}{dx}$$\n",
    "\n",
    "$$P(X(\\omega) \\leq x)= F_X(x) = \\int_{-\\infty}^x F_X(t)\\, dt$$\n",
    "\n",
    "$$P(a < X(\\omega) \\leq b) = F_X(b) - F_X(a) = \\int_a^b F_X(t)\\, dt$$\n",
    "\n",
    "$p_X(x)$ est croissante\n",
    "\n",
    "$\\int_{-\\infty}^{+\\infty}p_X(t)\\,dt = 1$\n",
    "\n",
    "$P(X=a) = 0$\n",
    "\n",
    "## Moments d'une variable aléatoire scalaire réelle\n",
    "\n",
    "### Espérance mathématique -- Moment d'ordre 1\n",
    "\n",
    "Pour une fonction réelle $h$ d'une variable réelle, \n",
    "\n",
    "$E(h(X)) = \\sum_i h(x_i).p_i$ pour une variable aléatoire discrète\n",
    "\n",
    "$E(h(X)) = \\int_{-\\infty}^{+\\infty}h(x).p(x)\\,dx$ pour une variable aléatoire continue\n",
    "\n",
    "En particulier, \n",
    "\n",
    "$E(X) = \\sum_i x_i.p_i$ pour une variable aléatoire discrète\n",
    "\n",
    "$E(X) = \\int_{-\\infty}^{+\\infty}x.p(x)\\,dx$ pour une variable aléatoire continue\n",
    "\n",
    "### Moments d'ordre $k$\n",
    "\n",
    "Les moments d'ordre $k$, notés $m_k$, sont obtenus dans le cas particulier où $h(x)=x^k$. Ainsi, le moment d'ordre $k$ de la variable aléatoire $X$ est $m_k=E(X^k)$.\n",
    "\n",
    "### Moments centrés \n",
    "\n",
    "On appelle moment centré d'ordre $k$, noté $\\mu_k$, la quantité $E[(X-E(X))^k]$. \n",
    "\n",
    "Le moment centré d'ordre 1 est toujours nul.\n",
    "\n",
    "On appelle variance, également notée $\\sigma^2$ le moment centré d'ordre 2. $\\sigma$ est l'écart-type. Ces deux quatités dont une idée de la dispersion de la variable aléatoire autour de sa valeur moyenne.\n",
    "\n",
    "### Propriétés des moments\n",
    "\n",
    "Une variable aléatoire dont la densité de probabilité est une fonction paire a tous ses moments d'ordre impair nuls, en particulier l'espérance mathématique (moment d'ordre 1).\n",
    "\n",
    "Si une variable aléatoire dispose d'une densité de probabiité présentant une symétrie autour d'une valeur $c$ ( $p(c-x) = p(c+x)$ ), alors l'espérance mathématique de cette variable est la constante $c$.\n",
    "\n",
    "## Distributions usuelles\n",
    "\n",
    "### Distribution uniforme\n",
    "\n",
    "Une variable aléatoire $X$ est dite uniforme entre $a$ et $b$, si sa densité de probabilité est constante entre $a$ et $b$ et nulle ailleurs.\n",
    "\n",
    "$$p_X(x) = \\frac{u(x-a) - u(x-b)}{b-a}$$avec $u(x)$ la fonction échelon valant 0 si $x<0$ et 1 si $x>0$\n",
    "\n",
    "$m = \\frac{a+b}{2}$\n",
    "\n",
    "$\\sigma^2 = \\frac{(b-a)^2}{12}$\n",
    "\n",
    "### Distribution exponentielle monolatérale\n",
    "\n",
    "Une variable aléatoire $X$ suit une loi de probabilité exponentielle monolatérale de paramètre $\\alpha$ (\\alpha > 0) si sa densité de probabilité est définie par \n",
    "\n",
    "$$p_X(x) = u(x).\\alpha e^{-\\alpha.x}$$\n",
    "\n",
    "$m = \\frac{1}{\\alpha}$\n",
    "\n",
    "$\\sigma^2 = \\frac{1}{\\alpha^2}$\n",
    "\n",
    "### Distribution exponentielle bilatérale\n",
    "\n",
    "Une variable aléatoire $X$ suit une loi de probabilité exponentielle bilatérale de paramètre $\\alpha$ (\\alpha > 0) si sa densité de probabilité est définie par \n",
    "\n",
    "$$p_X(x) = \\frac{\\alpha}{2} e^{-\\alpha.|x|}$$\n",
    "\n",
    "$m = 0$\n",
    "\n",
    "$\\sigma^2 = \\frac{2}{\\alpha^2}$\n",
    "\n",
    "### Distribution normale (Gaussienne) de paramètres $m$ et $\\sigma$\n",
    "\n",
    "Une variable aléatoire $X$ suit une loi de probabilité normale de paramètres $m$ et $\\sigma$ (\\sigma > 0) si sa densité de probabilité est définie par \n",
    "\n",
    "$$p_X(x) = \\frac{1}{\\sqrt{2.\\Pi}.\\sigma} e^{-\\frac{(x-m)^2}{2.\\sigma^2}}$$\n",
    "\n",
    "$m = m$\n",
    "\n",
    "$\\sigma^2 = \\sigma^2$\n",
    "\n",
    "### Loi de Bernoulli\n",
    "\n",
    "Une variable aléatoire $X$ suit une loi de Bernoulli de paramètre $p$ si elle prend ses valeurs dans $\\{0, 1\\}$ avec $P(X=1)=p$\n",
    "\n",
    "$E(X) = p$\n",
    "\n",
    "$V(X) = p.(1-p)$\n",
    "\n",
    "### Loi de Binomiale\n",
    "\n",
    "Une variable aléatoire $X$ suit une loi binomiale de paramètres $n$ et $p$ si elle prend ses valeurs dans $\\{0, 1, \\dots, n\\}$ avec $P(X=k)=C_n^k.p^k (1-p)^{n-k}$\n",
    "\n",
    "$E(X) = np$\n",
    "\n",
    "$V(X) = n.p.(1-p)$\n",
    "\n",
    "### Loi de Poisson\n",
    "\n",
    "Une variable aléatoire $X$ suit une loi de Poisson de paramètre $\\lambda$ si elle prend ses valeurs dans $\\mathbb{N}$ avec $P(X=k)=e^{-\\lambda} \\frac{\\lambda^k}{k!}$\n",
    "\n",
    "$E(X) = \\lambda$\n",
    "\n",
    "$V(X) = \\lambda$"
   ]
  },
  {
   "cell_type": "markdown",
   "metadata": {},
   "source": [
    "# Manipulations\n",
    "\n",
    "`numpy.random` intègre déjà des fonctionnalités pour générer des tirages aléatoires selon les distributions présentées précédemment. Cependant, dans les manipulations qui vont suivre, nous allons reproduire ces fonctions à partir de la fonction `numpy.random.rand()` qui génère des variables aléatoires uniformes comprises entre 0 et 1."
   ]
  },
  {
   "cell_type": "markdown",
   "metadata": {},
   "source": [
    "## Etude de la distribution uniforme entre 0 et 1\n",
    "\n",
    "Utilisez la fonction `numpy.random.rand()` pour générer un échantillon de `n` valeurs."
   ]
  },
  {
   "cell_type": "code",
   "execution_count": null,
   "metadata": {},
   "outputs": [],
   "source": [
    "import numpy as np\n",
    "import matplotlib.pyplot as plt\n",
    "\n",
    "# Votre code ici\n"
   ]
  },
  {
   "cell_type": "markdown",
   "metadata": {},
   "source": [
    "Utilisez la fonction `hist` de `matplotlib` pour visualiser la distribution des données tirées aléatoirement."
   ]
  },
  {
   "cell_type": "code",
   "execution_count": null,
   "metadata": {},
   "outputs": [],
   "source": [
    "%matplotlib notebook\n",
    "\n",
    "# Votre code ici\n"
   ]
  },
  {
   "cell_type": "markdown",
   "metadata": {},
   "source": [
    "Mettez en évidence le comportement de cette distribution lorsque `n` augmente."
   ]
  },
  {
   "cell_type": "code",
   "execution_count": null,
   "metadata": {},
   "outputs": [],
   "source": [
    "# Votre code ici\n"
   ]
  },
  {
   "cell_type": "markdown",
   "metadata": {},
   "source": [
    "Générez `m` échantillons de `n` valeurs tirées aléatoirement dans une distribution uniforme entre 0 et 1, et calculez la moyenne et la variance de chaque échantillon.\n",
    "\n",
    "Affichez l'histogramme des valeurs de moyenne et de variance."
   ]
  },
  {
   "cell_type": "code",
   "execution_count": null,
   "metadata": {},
   "outputs": [],
   "source": [
    "# Votre code ici\n"
   ]
  },
  {
   "cell_type": "markdown",
   "metadata": {},
   "source": [
    "Mettez en évidence le comportement de la distribution de la moyenne et de la variance lorsque `m` augmente pour une valeur donnée de `n`."
   ]
  },
  {
   "cell_type": "code",
   "execution_count": null,
   "metadata": {},
   "outputs": [],
   "source": [
    "# Votre code ici\n"
   ]
  },
  {
   "cell_type": "markdown",
   "metadata": {},
   "source": [
    "Mettez en évidence le comportement de la distribution de la moyenne et de la variance lorsque `n` augmente pour une grande valeur de `m`."
   ]
  },
  {
   "cell_type": "code",
   "execution_count": null,
   "metadata": {},
   "outputs": [],
   "source": [
    "# Votre code ici\n"
   ]
  },
  {
   "cell_type": "markdown",
   "metadata": {},
   "source": [
    "Créez et testez une fonction exploitant utilisant `numpy.ramdom.rand()`, se comportant de façon identique, mais qui renvoie des nombres aléatoires uniformément distribués entre $a$ et $b$, deux réels passés en argument."
   ]
  },
  {
   "cell_type": "code",
   "execution_count": null,
   "metadata": {},
   "outputs": [],
   "source": [
    "def uniform(a,b,dim):\n",
    "    '''\n",
    "    Cette fonction renvoie des nombres aléatoires uniformément répartis entre a et b\n",
    "    \n",
    "    dim est un tuple donnant la taille de chacune des dimensions du tableau retourné\n",
    "    '''\n",
    "    # Insérez votre code ici\n",
    "    return "
   ]
  },
  {
   "cell_type": "markdown",
   "metadata": {},
   "source": [
    "Voici quelques appels pour lesquels la fonction devra fonctionner"
   ]
  },
  {
   "cell_type": "code",
   "execution_count": null,
   "metadata": {},
   "outputs": [],
   "source": [
    "print(uniform(5,7,20))\n",
    "print(uniform(3,5,(4,3)))\n",
    "print(uniform(3,5,(2,3,2)))\n"
   ]
  },
  {
   "cell_type": "markdown",
   "metadata": {},
   "source": [
    "## Etude de la distribution uniforme entre $a$ et $b$\n",
    "\n",
    "Vérifiez via le tirage d'échantillons de taille croissante que moyenne et variance tendent vers les valeurs théoriques."
   ]
  },
  {
   "cell_type": "code",
   "execution_count": null,
   "metadata": {},
   "outputs": [],
   "source": [
    "# Votre code ici"
   ]
  },
  {
   "cell_type": "markdown",
   "metadata": {},
   "source": [
    "## Génération de variable aléatoire de Bernoulli\n",
    "\n",
    "On rappelle qu'une variable aléatoire de Bernoulli de paramètre $p$ prend ses valeurs dans $\\{0,1\\}$ avec $P(X = 1)=p$.\n",
    "\n",
    "Pour générer une telle variable, on va tirer une valeur dans une distribution uniforme entre 0 et 1, et renvoyer 1 si cette valeur est inférieure ou égale à $p$ et 0 sinon.\n",
    "\n",
    "Ecrire une fonction permettant de générer un tableau de valeur tirée dans une loi de Bernoulli de paramètre $p$ et dont la taille de chaque dimension est indiquée dans un tuple passé en argument."
   ]
  },
  {
   "cell_type": "code",
   "execution_count": null,
   "metadata": {},
   "outputs": [],
   "source": [
    "def bernoulli(p, dim) :\n",
    "    # Votre code ici\n",
    "    return "
   ]
  },
  {
   "cell_type": "markdown",
   "metadata": {},
   "source": [
    "Vérifiez qu'avec un grand nombre de tirages, la moyenne et la variance des valeurs tirées tendent vers les valeurs théoriques."
   ]
  },
  {
   "cell_type": "code",
   "execution_count": null,
   "metadata": {},
   "outputs": [],
   "source": [
    "# Votre code ici"
   ]
  },
  {
   "cell_type": "markdown",
   "metadata": {},
   "source": [
    "Générer `m` échantillons de `n` tirages dans une loi de Bernoulli de paramètre $p$ et calculez la moyenne et la variance de chaque échantillon.\n",
    "\n",
    "Affichez un histogramme des moyennes et des variances"
   ]
  },
  {
   "cell_type": "code",
   "execution_count": null,
   "metadata": {},
   "outputs": [],
   "source": [
    "# Votre code ici"
   ]
  },
  {
   "cell_type": "markdown",
   "metadata": {},
   "source": [
    "## Génération d'une variable aléatoire suivant une loi binomiale\n",
    "\n",
    "Nous rappelons qu'une variable aléatoire suivant une loi binomiale de paramètres $n$ et $p$ prend ses valeurs dans $\\{0, 1,\\dots,n\\}$ avec une probabilité $P(X=k) = C_n^k p^k (1-p)^{n-k}$.\n",
    "\n",
    "Pour générer de telles valeurs, on somme les éléments d'un échantillon de $n$ valeurs aléatoires tirées selon une loi de Bernoulli de paramètre $p$.\n",
    "\n",
    "Ecrire une fonction permettant de générer $m$ échantillons de $l$ valeurs aléatoires tirées aléatoirement selon une loi binomiale de paramètres $n$ et $p$."
   ]
  },
  {
   "cell_type": "code",
   "execution_count": null,
   "metadata": {},
   "outputs": [],
   "source": [
    "def binomial(m,l,n,p):\n",
    "    # Votre code ici\n",
    "    return"
   ]
  },
  {
   "cell_type": "markdown",
   "metadata": {},
   "source": [
    "Comme précédemment, vérifiez que la moyenne et la variance $k$ variables aléatoires binomiales de paramètres $n$ et $p$ tendent vers les valeurs théoriques."
   ]
  },
  {
   "cell_type": "code",
   "execution_count": null,
   "metadata": {},
   "outputs": [],
   "source": [
    "# Votre code ici"
   ]
  },
  {
   "cell_type": "markdown",
   "metadata": {},
   "source": [
    "Illustrez via des histogrammes, la distribution de la moyenne et de la variance de $m$ échantillons de $l$ variables aléatoires binomiales."
   ]
  },
  {
   "cell_type": "code",
   "execution_count": null,
   "metadata": {},
   "outputs": [],
   "source": [
    "# Votre code ici"
   ]
  },
  {
   "cell_type": "markdown",
   "metadata": {},
   "source": [
    "# Mélange de lois\n",
    "\n",
    "La fonction numpy.random.randn() génère des données tirées aléatoirement selon une loi normale de moyenne 0 et de variance 1.\n",
    "\n",
    "Soit $X$ une variable aléatoire scalaire réelle. Toute fonction de $X$ est une variable aléatoire. C'est en particulier le cas de $Y = aX+b$.\n",
    "\n",
    "Dans ce cas, on a $E(Y)=a.E(X)+b$ et $V(Y)=a^2.V(X)$.\n",
    "\n",
    "Exploitez les propriétés précédentes pour générez des données tirées aléatoirement dans une loi normale de paramètres $m$ et $\\sigma$, et visualisez l'histogramme de ces données."
   ]
  },
  {
   "cell_type": "code",
   "execution_count": null,
   "metadata": {},
   "outputs": [],
   "source": [
    "# Votre code ici"
   ]
  },
  {
   "cell_type": "markdown",
   "metadata": {},
   "source": [
    "Générez des $N_1$ données issues d'une loi normale de paramètre $m_1$ et $\\sigma_1^2$ et $N_2$ données issues d'une loi de paramètres $m_2$ et $\\sigma_2^2$ et visualisez l'histogramme du jeu de données constitué de l'union des deux jeux précédent.\n",
    "\n",
    "Mettez en évidence les différents phénomènes lorsque :\n",
    "- $N_1$ et $N_2$ sont du même ordre ou d'ordre de grandeur différent\n",
    "- $m_1$ et $m_2$ sont proches ou éloignés\n",
    "- pour différentes valeurs de $\\sigma_1$ et $\\sigma_2$"
   ]
  },
  {
   "cell_type": "code",
   "execution_count": null,
   "metadata": {},
   "outputs": [],
   "source": [
    "# Votre code ici"
   ]
  },
  {
   "cell_type": "markdown",
   "metadata": {},
   "source": [
    "# Variable aléatoire vectorielle -- vecteur aléatoire\n",
    "\n",
    "Une variable aléatoire vectorielle $X(\\omega)$ de dimension $n$ est un vecteur aléatoire appartenant à $\\mathbb{R}^n$ telle que chacune de ses composantes soit une variable aléatoire scalaire.\n",
    "\n",
    "$$\n",
    "X(\\omega)=\\left(\n",
    "\\begin{array}{c}\n",
    "X_1(\\omega) \\\\ X_2(\\omega) \\\\ \\vdots \\\\ X_n(\\omega) \n",
    "\\end{array}\n",
    "\\right)\n",
    "$$"
   ]
  },
  {
   "cell_type": "markdown",
   "metadata": {},
   "source": [
    "On définit la covariance entre deux variables aléatoires scalaires $X$ et $Y$ par la quantité suivante.\n",
    "\n",
    "$$\\gamma_{X,Y}=Cov(X,Y)=E[(X-E(X))(Y-E(Y))]$$\n",
    "\n",
    "On définit $c$ le coefficient de corrélation entre $X$ et $Y$ par la formule suivante :\n",
    "\n",
    "$$c = \\frac{\\gamma_{X,Y}}{\\sigma_X.\\sigma_Y}$$\n",
    "\n",
    "Ce coefficient est compris entre -1 et 1.\n",
    "\n",
    "La valeur absolue de $c$ dont la force du lien entre $X$ et $Y$. Ainsi, lorsque $|c|=1$, $X$ et $Y$ sont presque sûrement proportionnelles. \n",
    "\n",
    "Le signe la direction des tendances respectives entre $X$ et $Y$. Ainsi, lorsque $c>0$, si $X$ augmente alors $Y$ a également tendance à croître, alors qu'il aurait tendance à décroître si $c<0$."
   ]
  },
  {
   "cell_type": "markdown",
   "metadata": {},
   "source": [
    "Générez un échantillon $X$ de $n$ valeurs tirées selon une loi normale de paramètres $m_1$ et $\\sigma_1$ ainsi qu'un autre échantillon $Y$ contenant également $n$ valeurs tirées aléatoirement selon une loi normale de pramètre $m_2$ et $\\sigma_2$.\n",
    "\n",
    "- Visualisez les données via un nuage de points.\n",
    "- Calculez le coefficient de corrélation.\n"
   ]
  },
  {
   "cell_type": "code",
   "execution_count": null,
   "metadata": {},
   "outputs": [],
   "source": [
    "# Votre code ici"
   ]
  },
  {
   "cell_type": "markdown",
   "metadata": {},
   "source": [
    "Générez un nouvel échantillon à partir de l'échantillon précédent. Dans ce nouvel échantillon, $X'$ vaut $\\cos \\theta . X - \\sin \\theta . Y + b_0 $ et $Y'$ vaut $\\sin \\theta X + \\cos \\theta Y+b_1$.\n",
    "\n",
    "- Visualisez les nouvelles données. \n",
    "- Calculez le coeficient de corrélation."
   ]
  },
  {
   "cell_type": "code",
   "execution_count": null,
   "metadata": {},
   "outputs": [],
   "source": [
    "# Votre code ici"
   ]
  },
  {
   "cell_type": "markdown",
   "metadata": {},
   "source": [
    "Générez maintenant deux autres échantillons $X''$ et $Y''$ chacun de taille $n''$ de la façon suivante. \n",
    "\n",
    "$X''$ est issu d'un tirage aléatoire dans une loi normale de paramètre $m''$ et $\\sigma''$.\n",
    "\n",
    "Les valeurs de $Y''$ sont produites par $Y'' = a.(X''+b_X) + e$. Pour chaque valeur, $b_x$ et $e$ sont tirés aléatoirement dans des lois normales centrées de variances respectives $\\sigma_{b_X}^2$ et $\\sigma_e^2$.\n",
    "\n",
    "Visualisez $(X,Y)$, $(X',Y')$ et $(X'',Y'')$ sur le même graphique."
   ]
  },
  {
   "cell_type": "code",
   "execution_count": null,
   "metadata": {},
   "outputs": [],
   "source": [
    "# Votre code ici"
   ]
  },
  {
   "cell_type": "markdown",
   "metadata": {},
   "source": [
    "Importez les $N$ premiers éléments de chaque échantillon générés précédemment dans un dataframe pandas de sorte que $X$, $Y$, $X'$, $Y'$, $X''$ et $Y''$ correspondent chacun à une colonne distincte.\n",
    "\n",
    "Afficher la matrice de corrélation.\n",
    "\n",
    "Visualisez la matrice des nuages de points sur l'ensemble des couples de dimension."
   ]
  },
  {
   "cell_type": "code",
   "execution_count": null,
   "metadata": {},
   "outputs": [],
   "source": [
    "# Votre code ici"
   ]
  },
  {
   "cell_type": "markdown",
   "metadata": {},
   "source": [
    "Importez maintenant la totalité des éléments des trois échantillons $(X,Y)$, $(X',Y')$ et $(X'',Y'')$ dans un dataframe pandas disposant de 3 attributs $x$, $y$  et $C$ tels que $x$ reçoit les valeurs de $X$, $X'$ et $X''$, $y$ reçoit les valeurs de $Y$, $Y'$ et $Y''$. Enfin, $C$ devra valoir 'A' pour les données provenant de $(X,Y)$, 'B' pour les données provenant de $(X',Y')$ et finalement 'X' pour celles provenant de $(X'',Y'')$.\n",
    "\n",
    "Affichez distinctement pour les trois classes 'A', 'B' et 'X' :\n",
    "- les histogrammes de $x$ et de $y$\n",
    "- les distributions de $x$ et de $y$\n",
    "- des boîtes à moustache de $x$ et de $y$\n",
    "- les diagrammes en violon de $x$ et de $y$"
   ]
  },
  {
   "cell_type": "code",
   "execution_count": null,
   "metadata": {},
   "outputs": [],
   "source": [
    "# Votre code ici"
   ]
  }
 ],
 "metadata": {
  "kernelspec": {
   "display_name": "Python 3",
   "language": "python",
   "name": "python3"
  },
  "language_info": {
   "codemirror_mode": {
    "name": "ipython",
    "version": 3
   },
   "file_extension": ".py",
   "mimetype": "text/x-python",
   "name": "python",
   "nbconvert_exporter": "python",
   "pygments_lexer": "ipython3",
   "version": "3.8.5"
  }
 },
 "nbformat": 4,
 "nbformat_minor": 2
}
